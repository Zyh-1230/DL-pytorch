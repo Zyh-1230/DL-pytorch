{
 "cells": [
  {
   "cell_type": "code",
   "execution_count": 14,
   "id": "76a46a0e-633d-4962-81aa-eac0e636f92d",
   "metadata": {},
   "outputs": [],
   "source": [
    "import torch\n",
    "from torchvision import transforms\n",
    "from torchvision import datasets\n",
    "from torch.utils.data import DataLoader\n",
    "import torch.nn.functional as F\n",
    "import torch.optim as optim"
   ]
  },
  {
   "cell_type": "code",
   "execution_count": 16,
   "id": "11d90d28-d1ca-410f-ad82-60944d25487d",
   "metadata": {},
   "outputs": [],
   "source": [
    "batch_size = 64"
   ]
  },
  {
   "cell_type": "code",
   "execution_count": 24,
   "id": "1ac3a205-07e5-44bb-bcf8-729e7d808515",
   "metadata": {},
   "outputs": [],
   "source": [
    "transform = transforms.Compose([transforms.ToTensor(), transforms.Normalize((0.1307, ), (0.3081, ))])"
   ]
  },
  {
   "cell_type": "code",
   "execution_count": 36,
   "id": "4834d1e9-85c4-46d8-96c7-8fda68bcddfa",
   "metadata": {},
   "outputs": [],
   "source": [
    "train_dataset = datasets.MNIST(root='Users/zhouyuhan/Documents/Code/PythonForAnalysis/Test/DL/dataset/mnist', train=True, download=False, transform=transform)\n",
    "train_loader = DataLoader(train_dataset, shuffle=True, batch_size=batch_size)\n",
    "\n",
    "test_dataset = datasets.MNIST(root='Users/zhouyuhan/Documents/Code/PythonForAnalysis/Test/DL/dataset/mnist', train=False, download=False, transform=transform)\n",
    "test_loader = DataLoader(test_dataset, shuffle=True, batch_size=batch_size)"
   ]
  },
  {
   "cell_type": "code",
   "execution_count": 28,
   "id": "5fd2ee62-98d8-4ffb-94a6-212927d79c05",
   "metadata": {},
   "outputs": [],
   "source": [
    "class Net(torch.nn.Module):\n",
    "    def __init__(self):\n",
    "        super(Net, self).__init__()\n",
    "        self.conv1 = torch.nn.Conv2d(1, 10, kernel_size=5)\n",
    "        self.conv2 = torch.nn.Conv2d(10, 20, kernel_size=5)\n",
    "        self.conv3 = torch.nn.Conv2d(20, 30, kernel_size=3)\n",
    "        self.pooling = torch.nn.MaxPool2d(2)\n",
    "        self.fc1 = torch.nn.Linear(30, 20)\n",
    "        self.fc2 = torch.nn.Linear(20, 10)\n",
    "\n",
    "    def forward(self, x):\n",
    "        batch_size = x.size(0)\n",
    "        x = F.relu(self.pooling(self.conv1(x)))\n",
    "        x = F.relu(self.pooling(self.conv2(x)))\n",
    "        x = F.relu(self.pooling(self.conv3(x)))\n",
    "        x = x.view(batch_size, -1)\n",
    "        x = self.fc1(x)\n",
    "        x = self.fc2(x)\n",
    "        return x\n",
    "\n",
    "model = Net()"
   ]
  },
  {
   "cell_type": "code",
   "execution_count": 30,
   "id": "0c9df998-395f-48f7-adb6-49362440a656",
   "metadata": {},
   "outputs": [],
   "source": [
    "criterion = torch.nn.CrossEntropyLoss()\n",
    "\n",
    "optimizer = optim.SGD(model.parameters(), lr=0.01, momentum=0.5)"
   ]
  },
  {
   "cell_type": "code",
   "execution_count": 32,
   "id": "23975518-c6fe-41e2-800d-5fb1aaeaa4ad",
   "metadata": {},
   "outputs": [],
   "source": [
    "def train(epoch):\n",
    "    running_loss = 0.0\n",
    "    for batch_idx, data in enumerate(train_loader, 0):\n",
    "        inputs, target = data\n",
    "        optimizer.zero_grad()\n",
    "\n",
    "        outputs = model(inputs)\n",
    "        loss = criterion(outputs, target)\n",
    "        loss.backward()\n",
    "        optimizer.step()\n",
    "\n",
    "        running_loss += loss.item()\n",
    "        if batch_idx % 300 == 299:\n",
    "            print('[%d, %5d] loss: %.3f' % (epoch + 1, batch_idx + 1, running_loss / 300))\n",
    "            running_loss = 0.0\n",
    "\n",
    "def test():\n",
    "    correct = 0\n",
    "    total = 0\n",
    "    with torch.no_grad():\n",
    "        for data in test_loader:\n",
    "            inputs, target = data\n",
    "            outputs = model(inputs)\n",
    "            _, predicted = torch.max(outputs.data, dim=1)\n",
    "            total += target.size(0)\n",
    "            correct += (predicted == target).sum().item()\n",
    "        print('Accuracy on test set: %d %% [%d/%d]' % (100 * correct / total, correct, total))"
   ]
  },
  {
   "cell_type": "code",
   "execution_count": 34,
   "id": "15874a98-6ef0-4674-a939-278c65e6cfdb",
   "metadata": {},
   "outputs": [
    {
     "name": "stdout",
     "output_type": "stream",
     "text": [
      "[1,   300] loss: 1.880\n",
      "[1,   600] loss: 0.439\n",
      "[1,   900] loss: 0.252\n",
      "Accuracy on test set: 93 % [9368/10000]\n",
      "[2,   300] loss: 0.185\n",
      "[2,   600] loss: 0.155\n",
      "[2,   900] loss: 0.137\n",
      "Accuracy on test set: 96 % [9646/10000]\n",
      "[3,   300] loss: 0.121\n",
      "[3,   600] loss: 0.102\n",
      "[3,   900] loss: 0.103\n",
      "Accuracy on test set: 97 % [9744/10000]\n",
      "[4,   300] loss: 0.087\n",
      "[4,   600] loss: 0.092\n",
      "[4,   900] loss: 0.081\n",
      "Accuracy on test set: 97 % [9753/10000]\n",
      "[5,   300] loss: 0.075\n",
      "[5,   600] loss: 0.068\n",
      "[5,   900] loss: 0.077\n",
      "Accuracy on test set: 98 % [9818/10000]\n",
      "[6,   300] loss: 0.060\n",
      "[6,   600] loss: 0.066\n",
      "[6,   900] loss: 0.062\n",
      "Accuracy on test set: 98 % [9843/10000]\n",
      "[7,   300] loss: 0.052\n",
      "[7,   600] loss: 0.056\n",
      "[7,   900] loss: 0.057\n",
      "Accuracy on test set: 97 % [9781/10000]\n",
      "[8,   300] loss: 0.050\n",
      "[8,   600] loss: 0.049\n",
      "[8,   900] loss: 0.044\n",
      "Accuracy on test set: 98 % [9867/10000]\n",
      "[9,   300] loss: 0.045\n",
      "[9,   600] loss: 0.046\n",
      "[9,   900] loss: 0.042\n",
      "Accuracy on test set: 98 % [9803/10000]\n",
      "[10,   300] loss: 0.039\n",
      "[10,   600] loss: 0.044\n",
      "[10,   900] loss: 0.044\n",
      "Accuracy on test set: 98 % [9866/10000]\n"
     ]
    }
   ],
   "source": [
    "if __name__ == '__main__':\n",
    "    for epoch in range(10):\n",
    "        train(epoch)\n",
    "        test()"
   ]
  },
  {
   "cell_type": "code",
   "execution_count": null,
   "id": "ce101bad-8cd0-4ce8-af16-a9f62bb0b668",
   "metadata": {},
   "outputs": [],
   "source": []
  }
 ],
 "metadata": {
  "kernelspec": {
   "display_name": "Python [conda env:base] *",
   "language": "python",
   "name": "conda-base-py"
  },
  "language_info": {
   "codemirror_mode": {
    "name": "ipython",
    "version": 3
   },
   "file_extension": ".py",
   "mimetype": "text/x-python",
   "name": "python",
   "nbconvert_exporter": "python",
   "pygments_lexer": "ipython3",
   "version": "3.12.7"
  }
 },
 "nbformat": 4,
 "nbformat_minor": 5
}
