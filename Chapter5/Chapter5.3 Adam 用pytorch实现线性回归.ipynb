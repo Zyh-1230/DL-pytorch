{
 "cells": [
  {
   "cell_type": "code",
   "execution_count": 3,
   "id": "042960e3-a3bb-4258-b330-a745fc2d73ba",
   "metadata": {},
   "outputs": [],
   "source": [
    "import torch"
   ]
  },
  {
   "cell_type": "code",
   "execution_count": 4,
   "id": "5764c0e2-ee86-4b06-8f11-1b939242a116",
   "metadata": {},
   "outputs": [],
   "source": [
    "x_data = torch.Tensor([[1.0], [2.0], [3.0]])\n",
    "y_data = torch.Tensor([[2.0], [4.0], [6.0]])"
   ]
  },
  {
   "cell_type": "code",
   "execution_count": 5,
   "id": "735a5b8c-084c-41e9-9848-34e96e79edae",
   "metadata": {},
   "outputs": [],
   "source": [
    "# 构造模型\n",
    "class LinearModel(torch.nn.Module):\n",
    "    def __init__(self):\n",
    "        super(LinearModel, self).__init__()\n",
    "        # torch.nn.Linear(in_features, out_features, bias=True, device=None, dtype=None) 实现全连接层\n",
    "        # in_features: 输入特征的数量(输入张量的最后一维大小) out_features:输出特征的数量(输出张量的最后一维大小)\n",
    "        # bias:是否添加可学习的偏置项\n",
    "        self.linear = torch.nn.Linear(1, 1) # 输入维度为1 输出维度为1 \n",
    "\n",
    "    def forward(self, x):\n",
    "        y_pred = self.linear(x) # 对象+() 代表可调用对象\n",
    "        return y_pred\n",
    "\n",
    "model = LinearModel() # model is callable"
   ]
  },
  {
   "cell_type": "code",
   "execution_count": 19,
   "id": "8e3f9ef2-daa2-4c61-b771-6186acec80a9",
   "metadata": {},
   "outputs": [],
   "source": [
    "# 构造损失函数及优化器\n",
    "# class torch.nn.MSELoss(size_average=True, reduce=True)\n",
    "# size_average是否求所有样本的损失均值 reduce是否为降维处理\n",
    "# criterion(y_head, y)\n",
    "criterion = torch.nn.MSELoss(size_average=False)\n",
    "\n",
    "# class torch.optim.SGD(params, lr=<object object>, momentum=0, dampening=0, weight_decay=0, nesterov=False)\n",
    "# SGD随机梯度下降\n",
    "# params权重--在model中没有定义相应的权重 只有linear这一个成员 model.parameters()会检查model中所有成员 将相应的权重加到最后的训练结果上\n",
    "# lr--learning rate\n",
    "optimizer = torch.optim.Adam(model.parameters(), lr=0.1) # Adagrad和Adam的自适应机制在极小数据集上劣势较大 相较于SGD应使用较大学习率才能尽快收敛"
   ]
  },
  {
   "cell_type": "code",
   "execution_count": 21,
   "id": "2ec372fc-d0c2-435f-a64a-90471ca20d54",
   "metadata": {},
   "outputs": [
    {
     "name": "stdout",
     "output_type": "stream",
     "text": [
      "0 0.2298865020275116\n",
      "1 0.17755194008350372\n",
      "2 0.12630736827850342\n",
      "3 0.1037454754114151\n",
      "4 0.06528227776288986\n",
      "5 0.04663265496492386\n",
      "6 0.031452327966690063\n",
      "7 0.013430695049464703\n",
      "8 0.009088684804737568\n",
      "9 0.005899407900869846\n",
      "10 0.00023901650274638087\n",
      "11 0.002779632806777954\n",
      "12 0.006201840937137604\n",
      "13 0.0060834744945168495\n",
      "14 0.010079164057970047\n",
      "15 0.01417289488017559\n",
      "16 0.01419883593916893\n",
      "17 0.015738802030682564\n",
      "18 0.017456136643886566\n",
      "19 0.01569206267595291\n",
      "20 0.014349234290421009\n",
      "21 0.013765036128461361\n",
      "22 0.01093296054750681\n",
      "23 0.008344590663909912\n",
      "24 0.007065140642225742\n",
      "25 0.004672509618103504\n",
      "26 0.0026025883853435516\n",
      "27 0.0020012320019304752\n",
      "28 0.0009058679570443928\n",
      "29 0.00010741417645476758\n",
      "30 0.0005040324758738279\n",
      "31 0.0004874401492998004\n",
      "32 0.000584013236220926\n",
      "33 0.0014007315039634705\n",
      "34 0.001665316754952073\n",
      "35 0.0018934521358460188\n",
      "36 0.002435264177620411\n",
      "37 0.00236891838721931\n",
      "38 0.0022878858726471663\n",
      "39 0.0023166134487837553\n",
      "40 0.0018692676676437259\n",
      "41 0.001564145553857088\n",
      "42 0.0013057856122031808\n",
      "43 0.00080516142770648\n",
      "44 0.0005820507649332285\n",
      "45 0.00035999054671265185\n",
      "46 9.95453228824772e-05\n",
      "47 0.00010907604155363515\n",
      "48 4.688388798967935e-05\n",
      "49 5.560639692703262e-05\n",
      "50 0.0001930039143189788\n",
      "51 0.00021115649724379182\n",
      "52 0.00032171705970540643\n",
      "53 0.0003987890377175063\n",
      "54 0.0003912057145498693\n",
      "55 0.00044290581718087196\n",
      "56 0.00039095149259082973\n",
      "57 0.0003433115198276937\n",
      "58 0.0003020056174136698\n",
      "59 0.00020076734654139727\n",
      "60 0.00015922271995805204\n",
      "61 8.959901606431231e-05\n",
      "62 4.1772691474761814e-05\n",
      "63 3.06378751702141e-05\n",
      "64 3.9332530832325574e-07\n",
      "65 1.9047707610297948e-05\n",
      "66 2.3433847673004493e-05\n",
      "67 3.935931090381928e-05\n",
      "68 6.487679638667032e-05\n",
      "69 6.772163033019751e-05\n",
      "70 8.684593194629997e-05\n",
      "71 8.102883293759078e-05\n",
      "72 7.872676360420883e-05\n",
      "73 7.005511724855751e-05\n",
      "74 5.153138772584498e-05\n",
      "75 4.297806299291551e-05\n",
      "76 2.3093729396350682e-05\n",
      "77 1.6316265828208998e-05\n",
      "78 6.112601113272831e-06\n",
      "79 2.3646139197808225e-06\n",
      "80 3.371537331986474e-06\n",
      "81 2.727819492065464e-06\n",
      "82 9.496021448285319e-06\n",
      "83 1.0466813364473637e-05\n",
      "84 1.6311712897731923e-05\n",
      "85 1.6885427612578496e-05\n",
      "86 1.81279938260559e-05\n",
      "87 1.7238660802831873e-05\n",
      "88 1.417090606992133e-05\n",
      "89 1.224159677803982e-05\n",
      "90 7.529280082962941e-06\n",
      "91 5.8094638006878085e-06\n",
      "92 2.165230398532003e-06\n",
      "93 1.5852792785153724e-06\n",
      "94 2.3607873345099506e-07\n",
      "95 7.688050231990928e-07\n",
      "96 1.2908290045743342e-06\n",
      "97 2.142954144801479e-06\n",
      "98 3.293823510830407e-06\n",
      "99 3.6102715057495516e-06\n"
     ]
    }
   ],
   "source": [
    "# Training Cycle\n",
    "for epoch in range(100):\n",
    "    # 前馈\n",
    "    y_pred = model(x_data) # 计算y_head\n",
    "    loss = criterion(y_pred, y_data) # 计算Loss\n",
    "    print(epoch, loss.item()) # loss在打印时会自动调用__str__()\n",
    "\n",
    "    optimizer.zero_grad() # 梯度归零 \n",
    "\n",
    "    # 反馈\n",
    "    loss.backward() \n",
    "    # Update\n",
    "    optimizer.step() "
   ]
  },
  {
   "cell_type": "code",
   "execution_count": 13,
   "id": "938dd2e2-e907-40bb-bc1a-fa6da7ed8360",
   "metadata": {},
   "outputs": [
    {
     "name": "stdout",
     "output_type": "stream",
     "text": [
      "w= -0.2309006303548813\n",
      "b= -0.46310895681381226\n",
      "y_pred= tensor([[-1.3867]])\n"
     ]
    }
   ],
   "source": [
    "# Output weight and bias\n",
    "print('w=', model.linear.weight.item())\n",
    "print('b=', model.linear.bias.item())\n",
    "\n",
    "# Test Model\n",
    "x_test = torch.Tensor([[4.0]])\n",
    "y_test = model(x_test)\n",
    "print('y_pred=', y_test.data)\n"
   ]
  },
  {
   "cell_type": "code",
   "execution_count": null,
   "id": "ba13b059-2b03-4544-b702-5e639bd00735",
   "metadata": {},
   "outputs": [],
   "source": []
  }
 ],
 "metadata": {
  "kernelspec": {
   "display_name": "Python [conda env:base] *",
   "language": "python",
   "name": "conda-base-py"
  },
  "language_info": {
   "codemirror_mode": {
    "name": "ipython",
    "version": 3
   },
   "file_extension": ".py",
   "mimetype": "text/x-python",
   "name": "python",
   "nbconvert_exporter": "python",
   "pygments_lexer": "ipython3",
   "version": "3.12.7"
  }
 },
 "nbformat": 4,
 "nbformat_minor": 5
}
