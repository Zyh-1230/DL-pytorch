{
 "cells": [
  {
   "cell_type": "code",
   "execution_count": 1,
   "id": "042960e3-a3bb-4258-b330-a745fc2d73ba",
   "metadata": {},
   "outputs": [],
   "source": [
    "import torch"
   ]
  },
  {
   "cell_type": "code",
   "execution_count": 2,
   "id": "5764c0e2-ee86-4b06-8f11-1b939242a116",
   "metadata": {},
   "outputs": [],
   "source": [
    "x_data = torch.Tensor([[1.0], [2.0], [3.0]])\n",
    "y_data = torch.Tensor([[2.0], [4.0], [6.0]])"
   ]
  },
  {
   "cell_type": "code",
   "execution_count": 3,
   "id": "735a5b8c-084c-41e9-9848-34e96e79edae",
   "metadata": {},
   "outputs": [],
   "source": [
    "# 构造模型\n",
    "class LinearModel(torch.nn.Module):\n",
    "    def __init__(self):\n",
    "        super(LinearModel, self).__init__()\n",
    "        # torch.nn.Linear(in_features, out_features, bias=True, device=None, dtype=None) 实现全连接层\n",
    "        # in_features: 输入特征的数量(输入张量的最后一维大小) out_features:输出特征的数量(输出张量的最后一维大小)\n",
    "        # bias:是否添加可学习的偏置项\n",
    "        self.linear = torch.nn.Linear(1, 1) # 输入维度为1 输出维度为1 \n",
    "\n",
    "    def forward(self, x):\n",
    "        y_pred = self.linear(x) # 对象+() 代表可调用对象\n",
    "        return y_pred\n",
    "\n",
    "model = LinearModel() # model is callable"
   ]
  },
  {
   "cell_type": "code",
   "execution_count": 26,
   "id": "8e3f9ef2-daa2-4c61-b771-6186acec80a9",
   "metadata": {},
   "outputs": [],
   "source": [
    "# 构造损失函数及优化器\n",
    "# class torch.nn.MSELoss(size_average=True, reduce=True)\n",
    "# size_average是否求所有样本的损失均值 reduce是否为降维处理\n",
    "# criterion(y_head, y)\n",
    "criterion = torch.nn.MSELoss(size_average=False)\n",
    "\n",
    "# class torch.optim.SGD(params, lr=<object object>, momentum=0, dampening=0, weight_decay=0, nesterov=False)\n",
    "# SGD随机梯度下降\n",
    "# params权重--在model中没有定义相应的权重 只有linear这一个成员 model.parameters()会检查model中所有成员 将相应的权重加到最后的训练结果上\n",
    "# lr--learning rate\n",
    "optimizer = torch.optim.LBFGS(model.parameters(), lr=0.01) # 如果损失不下降 可以增加内部迭代次数max_iter=20..."
   ]
  },
  {
   "cell_type": "code",
   "execution_count": 28,
   "id": "2ec372fc-d0c2-435f-a64a-90471ca20d54",
   "metadata": {},
   "outputs": [
    {
     "name": "stdout",
     "output_type": "stream",
     "text": [
      "0 6.000959729135502e-10\n",
      "1 5.83270320930751e-10\n",
      "2 5.679794412571937e-10\n",
      "3 5.532001523533836e-10\n",
      "4 5.532001523533836e-10\n",
      "5 5.532001523533836e-10\n",
      "6 5.532001523533836e-10\n",
      "7 5.532001523533836e-10\n",
      "8 5.532001523533836e-10\n",
      "9 5.532001523533836e-10\n",
      "10 5.532001523533836e-10\n",
      "11 5.532001523533836e-10\n",
      "12 5.532001523533836e-10\n",
      "13 5.532001523533836e-10\n",
      "14 5.532001523533836e-10\n",
      "15 5.532001523533836e-10\n",
      "16 5.532001523533836e-10\n",
      "17 5.532001523533836e-10\n",
      "18 5.532001523533836e-10\n",
      "19 5.532001523533836e-10\n",
      "20 5.532001523533836e-10\n",
      "21 5.532001523533836e-10\n",
      "22 5.532001523533836e-10\n",
      "23 5.532001523533836e-10\n",
      "24 5.532001523533836e-10\n",
      "25 5.532001523533836e-10\n",
      "26 5.532001523533836e-10\n",
      "27 5.532001523533836e-10\n",
      "28 5.532001523533836e-10\n",
      "29 5.532001523533836e-10\n",
      "30 5.532001523533836e-10\n",
      "31 5.532001523533836e-10\n",
      "32 5.532001523533836e-10\n",
      "33 5.532001523533836e-10\n",
      "34 5.532001523533836e-10\n",
      "35 5.532001523533836e-10\n",
      "36 5.532001523533836e-10\n",
      "37 5.532001523533836e-10\n",
      "38 5.532001523533836e-10\n",
      "39 5.532001523533836e-10\n",
      "40 5.532001523533836e-10\n",
      "41 5.532001523533836e-10\n",
      "42 5.532001523533836e-10\n",
      "43 5.532001523533836e-10\n",
      "44 5.532001523533836e-10\n",
      "45 5.532001523533836e-10\n",
      "46 5.532001523533836e-10\n",
      "47 5.532001523533836e-10\n",
      "48 5.532001523533836e-10\n",
      "49 5.532001523533836e-10\n",
      "50 5.532001523533836e-10\n",
      "51 5.532001523533836e-10\n",
      "52 5.532001523533836e-10\n",
      "53 5.532001523533836e-10\n",
      "54 5.532001523533836e-10\n",
      "55 5.532001523533836e-10\n",
      "56 5.532001523533836e-10\n",
      "57 5.532001523533836e-10\n",
      "58 5.532001523533836e-10\n",
      "59 5.532001523533836e-10\n",
      "60 5.532001523533836e-10\n",
      "61 5.532001523533836e-10\n",
      "62 5.532001523533836e-10\n",
      "63 5.532001523533836e-10\n",
      "64 5.532001523533836e-10\n",
      "65 5.532001523533836e-10\n",
      "66 5.532001523533836e-10\n",
      "67 5.532001523533836e-10\n",
      "68 5.532001523533836e-10\n",
      "69 5.532001523533836e-10\n",
      "70 5.532001523533836e-10\n",
      "71 5.532001523533836e-10\n",
      "72 5.532001523533836e-10\n",
      "73 5.532001523533836e-10\n",
      "74 5.532001523533836e-10\n",
      "75 5.532001523533836e-10\n",
      "76 5.532001523533836e-10\n",
      "77 5.532001523533836e-10\n",
      "78 5.532001523533836e-10\n",
      "79 5.532001523533836e-10\n",
      "80 5.532001523533836e-10\n",
      "81 5.532001523533836e-10\n",
      "82 5.532001523533836e-10\n",
      "83 5.532001523533836e-10\n",
      "84 5.532001523533836e-10\n",
      "85 5.532001523533836e-10\n",
      "86 5.532001523533836e-10\n",
      "87 5.532001523533836e-10\n",
      "88 5.532001523533836e-10\n",
      "89 5.532001523533836e-10\n",
      "90 5.532001523533836e-10\n",
      "91 5.532001523533836e-10\n",
      "92 5.532001523533836e-10\n",
      "93 5.532001523533836e-10\n",
      "94 5.532001523533836e-10\n",
      "95 5.532001523533836e-10\n",
      "96 5.532001523533836e-10\n",
      "97 5.532001523533836e-10\n",
      "98 5.532001523533836e-10\n",
      "99 5.532001523533836e-10\n"
     ]
    }
   ],
   "source": [
    "# Training Cycle\n",
    "for epoch in range(100):\n",
    "    def closure():\n",
    "        optimizer.zero_grad()\n",
    "        y_pred = model(x_data)\n",
    "        loss = criterion(y_pred, y_data)\n",
    "        loss.backward()\n",
    "        return loss\n",
    "        \n",
    "    loss = optimizer.step(closure) # LBFGS优化器需要传入闭包\n",
    "    print(epoch, loss.item())"
   ]
  },
  {
   "cell_type": "code",
   "execution_count": 35,
   "id": "938dd2e2-e907-40bb-bc1a-fa6da7ed8360",
   "metadata": {},
   "outputs": [
    {
     "name": "stdout",
     "output_type": "stream",
     "text": [
      "w= 2.0700604915618896\n",
      "b= -0.15926425158977509\n",
      "y_pred= tensor([[8.1210]])\n"
     ]
    }
   ],
   "source": [
    "# Output weight and bias\n",
    "print('w=', model.linear.weight.item())\n",
    "print('b=', model.linear.bias.item())\n",
    "\n",
    "# Test Model\n",
    "x_test = torch.Tensor([[4.0]])\n",
    "y_test = model(x_test)\n",
    "print('y_pred=', y_test.data)\n"
   ]
  },
  {
   "cell_type": "code",
   "execution_count": null,
   "id": "ba13b059-2b03-4544-b702-5e639bd00735",
   "metadata": {},
   "outputs": [],
   "source": []
  }
 ],
 "metadata": {
  "kernelspec": {
   "display_name": "Python [conda env:base] *",
   "language": "python",
   "name": "conda-base-py"
  },
  "language_info": {
   "codemirror_mode": {
    "name": "ipython",
    "version": 3
   },
   "file_extension": ".py",
   "mimetype": "text/x-python",
   "name": "python",
   "nbconvert_exporter": "python",
   "pygments_lexer": "ipython3",
   "version": "3.12.7"
  }
 },
 "nbformat": 4,
 "nbformat_minor": 5
}
