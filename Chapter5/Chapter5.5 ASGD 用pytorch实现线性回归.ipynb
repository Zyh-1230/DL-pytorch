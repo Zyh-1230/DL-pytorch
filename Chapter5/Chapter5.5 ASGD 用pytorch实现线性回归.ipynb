{
 "cells": [
  {
   "cell_type": "code",
   "execution_count": 1,
   "id": "042960e3-a3bb-4258-b330-a745fc2d73ba",
   "metadata": {},
   "outputs": [],
   "source": [
    "import torch"
   ]
  },
  {
   "cell_type": "code",
   "execution_count": 2,
   "id": "5764c0e2-ee86-4b06-8f11-1b939242a116",
   "metadata": {},
   "outputs": [],
   "source": [
    "x_data = torch.Tensor([[1.0], [2.0], [3.0]])\n",
    "y_data = torch.Tensor([[2.0], [4.0], [6.0]])"
   ]
  },
  {
   "cell_type": "code",
   "execution_count": 3,
   "id": "735a5b8c-084c-41e9-9848-34e96e79edae",
   "metadata": {},
   "outputs": [],
   "source": [
    "# 构造模型\n",
    "class LinearModel(torch.nn.Module):\n",
    "    def __init__(self):\n",
    "        super(LinearModel, self).__init__()\n",
    "        # torch.nn.Linear(in_features, out_features, bias=True, device=None, dtype=None) 实现全连接层\n",
    "        # in_features: 输入特征的数量(输入张量的最后一维大小) out_features:输出特征的数量(输出张量的最后一维大小)\n",
    "        # bias:是否添加可学习的偏置项\n",
    "        self.linear = torch.nn.Linear(1, 1) # 输入维度为1 输出维度为1 \n",
    "\n",
    "    def forward(self, x):\n",
    "        y_pred = self.linear(x) # 对象+() 代表可调用对象\n",
    "        return y_pred\n",
    "\n",
    "model = LinearModel() # model is callable"
   ]
  },
  {
   "cell_type": "code",
   "execution_count": 7,
   "id": "8e3f9ef2-daa2-4c61-b771-6186acec80a9",
   "metadata": {},
   "outputs": [
    {
     "name": "stderr",
     "output_type": "stream",
     "text": [
      "/opt/anaconda3/lib/python3.12/site-packages/torch/nn/_reduction.py:51: UserWarning: size_average and reduce args will be deprecated, please use reduction='sum' instead.\n",
      "  warnings.warn(warning.format(ret))\n"
     ]
    }
   ],
   "source": [
    "# 构造损失函数及优化器\n",
    "# class torch.nn.MSELoss(size_average=True, reduce=True)\n",
    "# size_average是否求所有样本的损失均值 reduce是否为降维处理\n",
    "# criterion(y_head, y)\n",
    "criterion = torch.nn.MSELoss(size_average=False)\n",
    "\n",
    "# class torch.optim.SGD(params, lr=<object object>, momentum=0, dampening=0, weight_decay=0, nesterov=False)\n",
    "# SGD随机梯度下降\n",
    "# params权重--在model中没有定义相应的权重 只有linear这一个成员 model.parameters()会检查model中所有成员 将相应的权重加到最后的训练结果上\n",
    "# lr--learning rate\n",
    "optimizer = torch.optim.ASGD(model.parameters(), lr=0.01)"
   ]
  },
  {
   "cell_type": "code",
   "execution_count": 9,
   "id": "2ec372fc-d0c2-435f-a64a-90471ca20d54",
   "metadata": {},
   "outputs": [
    {
     "name": "stdout",
     "output_type": "stream",
     "text": [
      "0 37.35957336425781\n",
      "1 16.680484771728516\n",
      "2 7.474051475524902\n",
      "3 3.374911308288574\n",
      "4 1.5494003295898438\n",
      "5 0.736055850982666\n",
      "6 0.37330859899520874\n",
      "7 0.21116502583026886\n",
      "8 0.13833563029766083\n",
      "9 0.10527573525905609\n",
      "10 0.08992964774370193\n",
      "11 0.0824788361787796\n",
      "12 0.07855147868394852\n",
      "13 0.07620180398225784\n",
      "14 0.07456309348344803\n",
      "15 0.0732494443655014\n",
      "16 0.07208901643753052\n",
      "17 0.07100509852170944\n",
      "18 0.06996327638626099\n",
      "19 0.06894847750663757\n",
      "20 0.06795333325862885\n",
      "21 0.06697492301464081\n",
      "22 0.06601177901029587\n",
      "23 0.06506288796663284\n",
      "24 0.06412775814533234\n",
      "25 0.0632062777876854\n",
      "26 0.06229802221059799\n",
      "27 0.06140266731381416\n",
      "28 0.06052034720778465\n",
      "29 0.05965080484747887\n",
      "30 0.05879361182451248\n",
      "31 0.05794874206185341\n",
      "32 0.0571160614490509\n",
      "33 0.0562954843044281\n",
      "34 0.05548667907714844\n",
      "35 0.05468931794166565\n",
      "36 0.05390340834856033\n",
      "37 0.05312887206673622\n",
      "38 0.05236553028225899\n",
      "39 0.05161299183964729\n",
      "40 0.05087149888277054\n",
      "41 0.05014041066169739\n",
      "42 0.04942004755139351\n",
      "43 0.04870985820889473\n",
      "44 0.04800998419523239\n",
      "45 0.047320254147052765\n",
      "46 0.04664018750190735\n",
      "47 0.04597011208534241\n",
      "48 0.045309580862522125\n",
      "49 0.04465849697589874\n",
      "50 0.044016897678375244\n",
      "51 0.04338432848453522\n",
      "52 0.04276098310947418\n",
      "53 0.042146723717451096\n",
      "54 0.04154112935066223\n",
      "55 0.0409441739320755\n",
      "56 0.04035592079162598\n",
      "57 0.039776094257831573\n",
      "58 0.03920460119843483\n",
      "59 0.038641322404146194\n",
      "60 0.038086000829935074\n",
      "61 0.03753887861967087\n",
      "62 0.03699951618909836\n",
      "63 0.03646796569228172\n",
      "64 0.0359438881278038\n",
      "65 0.035427529364824295\n",
      "66 0.03491858392953873\n",
      "67 0.03441683202981949\n",
      "68 0.03392232581973076\n",
      "69 0.033434975892305374\n",
      "70 0.0329546257853508\n",
      "71 0.032481107860803604\n",
      "72 0.032014500349760056\n",
      "73 0.03155446797609329\n",
      "74 0.031101036816835403\n",
      "75 0.03065422922372818\n",
      "76 0.030213845893740654\n",
      "77 0.029779769480228424\n",
      "78 0.029351912438869476\n",
      "79 0.02893015742301941\n",
      "80 0.0285145565867424\n",
      "81 0.028104964643716812\n",
      "82 0.02770114317536354\n",
      "83 0.02730315364897251\n",
      "84 0.026910915970802307\n",
      "85 0.026524215936660767\n",
      "86 0.02614319883286953\n",
      "87 0.025767574086785316\n",
      "88 0.02539743296802044\n",
      "89 0.0250325296074152\n",
      "90 0.024672934785485268\n",
      "91 0.024318430572748184\n",
      "92 0.023969043046236038\n",
      "93 0.023624729365110397\n",
      "94 0.023285355418920517\n",
      "95 0.022950761020183563\n",
      "96 0.022621119394898415\n",
      "97 0.022296054288744926\n",
      "98 0.021975817158818245\n",
      "99 0.02166011370718479\n"
     ]
    }
   ],
   "source": [
    "# Training Cycle\n",
    "for epoch in range(100):\n",
    "    # 前馈\n",
    "    y_pred = model(x_data) # 计算y_head\n",
    "    loss = criterion(y_pred, y_data) # 计算Loss\n",
    "    print(epoch, loss.item()) # loss在打印时会自动调用__str__()\n",
    "\n",
    "    optimizer.zero_grad() # 梯度归零 \n",
    "\n",
    "    # 反馈\n",
    "    loss.backward() \n",
    "    # Update\n",
    "    optimizer.step() "
   ]
  },
  {
   "cell_type": "code",
   "execution_count": 11,
   "id": "938dd2e2-e907-40bb-bc1a-fa6da7ed8360",
   "metadata": {},
   "outputs": [
    {
     "name": "stdout",
     "output_type": "stream",
     "text": [
      "w= 1.9020180702209473\n",
      "b= 0.2227221131324768\n",
      "y_pred= tensor([[7.8308]])\n"
     ]
    }
   ],
   "source": [
    "# Output weight and bias\n",
    "print('w=', model.linear.weight.item())\n",
    "print('b=', model.linear.bias.item())\n",
    "\n",
    "# Test Model\n",
    "x_test = torch.Tensor([[4.0]])\n",
    "y_test = model(x_test)\n",
    "print('y_pred=', y_test.data)\n"
   ]
  },
  {
   "cell_type": "code",
   "execution_count": null,
   "id": "ba13b059-2b03-4544-b702-5e639bd00735",
   "metadata": {},
   "outputs": [],
   "source": []
  }
 ],
 "metadata": {
  "kernelspec": {
   "display_name": "Python [conda env:base] *",
   "language": "python",
   "name": "conda-base-py"
  },
  "language_info": {
   "codemirror_mode": {
    "name": "ipython",
    "version": 3
   },
   "file_extension": ".py",
   "mimetype": "text/x-python",
   "name": "python",
   "nbconvert_exporter": "python",
   "pygments_lexer": "ipython3",
   "version": "3.12.7"
  }
 },
 "nbformat": 4,
 "nbformat_minor": 5
}
