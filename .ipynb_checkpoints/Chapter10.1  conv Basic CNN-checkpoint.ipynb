{
 "cells": [
  {
   "cell_type": "code",
   "execution_count": 1,
   "id": "e1e8f20b-55b7-4912-bbea-c2c03c551bbe",
   "metadata": {},
   "outputs": [],
   "source": [
    "import torch"
   ]
  },
  {
   "cell_type": "code",
   "execution_count": 3,
   "id": "dc93f5dd-4866-4e6a-960d-880090b09db7",
   "metadata": {},
   "outputs": [],
   "source": [
    "in_channels, out_channels = 5, 10\n",
    "width, height = 100, 100\n",
    "kernel_size = 3\n",
    "batch_size = 1 # 要求小批量输入"
   ]
  },
  {
   "cell_type": "code",
   "execution_count": 11,
   "id": "71f1806b-289d-41df-8597-87f1e7441225",
   "metadata": {},
   "outputs": [],
   "source": [
    "input = torch.randn(batch_size, in_channels, width, height)\n",
    "\n",
    "conv_layer = torch.nn.Conv2d(in_channels, out_channels, kernel_size=kernel_size) # out_channels个 in_channels x kernel_size x kernel_size\n",
    "\n",
    "output = conv_layer(input) # size_output = (size_input - 2).width/height"
   ]
  },
  {
   "cell_type": "code",
   "execution_count": 13,
   "id": "21c2bce9-fb53-4581-ba71-dd3960dbca63",
   "metadata": {},
   "outputs": [
    {
     "name": "stdout",
     "output_type": "stream",
     "text": [
      "torch.Size([1, 5, 100, 100])\n",
      "torch.Size([1, 10, 98, 98])\n",
      "torch.Size([10, 5, 3, 3])\n"
     ]
    }
   ],
   "source": [
    "print(input.shape)\n",
    "print(output.shape)\n",
    "print(conv_layer.weight.shape)"
   ]
  },
  {
   "cell_type": "code",
   "execution_count": null,
   "id": "54fb342a-0f1a-4cde-b61a-74eb9aa0dd59",
   "metadata": {},
   "outputs": [],
   "source": []
  }
 ],
 "metadata": {
  "kernelspec": {
   "display_name": "Python [conda env:base] *",
   "language": "python",
   "name": "conda-base-py"
  },
  "language_info": {
   "codemirror_mode": {
    "name": "ipython",
    "version": 3
   },
   "file_extension": ".py",
   "mimetype": "text/x-python",
   "name": "python",
   "nbconvert_exporter": "python",
   "pygments_lexer": "ipython3",
   "version": "3.12.7"
  }
 },
 "nbformat": 4,
 "nbformat_minor": 5
}
