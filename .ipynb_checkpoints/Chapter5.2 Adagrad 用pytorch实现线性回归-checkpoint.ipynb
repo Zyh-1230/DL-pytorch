{
 "cells": [
  {
   "cell_type": "code",
   "execution_count": 3,
   "id": "042960e3-a3bb-4258-b330-a745fc2d73ba",
   "metadata": {},
   "outputs": [],
   "source": [
    "import torch"
   ]
  },
  {
   "cell_type": "code",
   "execution_count": 4,
   "id": "5764c0e2-ee86-4b06-8f11-1b939242a116",
   "metadata": {},
   "outputs": [],
   "source": [
    "x_data = torch.Tensor([[1.0], [2.0], [3.0]])\n",
    "y_data = torch.Tensor([[2.0], [4.0], [6.0]])"
   ]
  },
  {
   "cell_type": "code",
   "execution_count": 7,
   "id": "735a5b8c-084c-41e9-9848-34e96e79edae",
   "metadata": {},
   "outputs": [],
   "source": [
    "# 构造模型\n",
    "class LinearModel(torch.nn.Module):\n",
    "    def __init__(self):\n",
    "        super(LinearModel, self).__init__()\n",
    "        # torch.nn.Linear(in_features, out_features, bias=True, device=None, dtype=None) 实现全连接层\n",
    "        # in_features: 输入特征的数量(输入张量的最后一维大小) out_features:输出特征的数量(输出张量的最后一维大小)\n",
    "        # bias:是否添加可学习的偏置项\n",
    "        self.linear = torch.nn.Linear(1, 1) # 输入维度为1 输出维度为1 \n",
    "\n",
    "    def forward(self, x):\n",
    "        y_pred = self.linear(x) # 对象+() 代表可调用对象\n",
    "        return y_pred\n",
    "\n",
    "model = LinearModel() # model is callable"
   ]
  },
  {
   "cell_type": "code",
   "execution_count": 29,
   "id": "8e3f9ef2-daa2-4c61-b771-6186acec80a9",
   "metadata": {},
   "outputs": [],
   "source": [
    "# 构造损失函数及优化器\n",
    "# class torch.nn.MSELoss(size_average=True, reduce=True)\n",
    "# size_average是否求所有样本的损失均值 reduce是否为降维处理\n",
    "# criterion(y_head, y)\n",
    "criterion = torch.nn.MSELoss(size_average=False)\n",
    "\n",
    "# class torch.optim.SGD(params, lr=<object object>, momentum=0, dampening=0, weight_decay=0, nesterov=False)\n",
    "# SGD随机梯度下降\n",
    "# params权重--在model中没有定义相应的权重 只有linear这一个成员 model.parameters()会检查model中所有成员 将相应的权重加到最后的训练结果上\n",
    "# lr--learning rate\n",
    "optimizer = torch.optim.Adagrad(model.parameters(), lr=0.1)"
   ]
  },
  {
   "cell_type": "code",
   "execution_count": 31,
   "id": "2ec372fc-d0c2-435f-a64a-90471ca20d54",
   "metadata": {},
   "outputs": [
    {
     "name": "stdout",
     "output_type": "stream",
     "text": [
      "0 0.006677807774394751\n",
      "1 0.04313930869102478\n",
      "2 0.10868819057941437\n",
      "3 0.01590234413743019\n",
      "4 0.001639394205994904\n",
      "5 0.00021363480482250452\n",
      "6 7.273609662661329e-05\n",
      "7 5.48843527212739e-05\n",
      "8 4.909914787276648e-05\n",
      "9 4.48097925982438e-05\n",
      "10 4.09821150242351e-05\n",
      "11 3.748451854335144e-05\n",
      "12 3.42916973750107e-05\n",
      "13 3.136944360448979e-05\n",
      "14 2.8695712899207138e-05\n",
      "15 2.6249846996506676e-05\n",
      "16 2.401138590357732e-05\n",
      "17 2.1965326595818624e-05\n",
      "18 2.0092113118153065e-05\n",
      "19 1.8381246263743378e-05\n",
      "20 1.6814839909784496e-05\n",
      "21 1.5380142940557562e-05\n",
      "22 1.406954925187165e-05\n",
      "23 1.2871139006165322e-05\n",
      "24 1.1772715879487805e-05\n",
      "25 1.0770322660391685e-05\n",
      "26 9.851743016042747e-06\n",
      "27 9.01204111869447e-06\n",
      "28 8.245924618677236e-06\n",
      "29 7.541457307524979e-06\n",
      "30 6.898930223542266e-06\n",
      "31 6.311634024314117e-06\n",
      "32 5.772717940999428e-06\n",
      "33 5.280747245706152e-06\n",
      "34 4.830845682590734e-06\n",
      "35 4.418544449436013e-06\n",
      "36 4.042200089315884e-06\n",
      "37 3.697534339153208e-06\n",
      "38 3.3816388622653903e-06\n",
      "39 3.094455450991518e-06\n",
      "40 2.8302827104198514e-06\n",
      "41 2.5893107249430614e-06\n",
      "42 2.3684519874223042e-06\n",
      "43 2.1662597191607347e-06\n",
      "44 1.9820593024633126e-06\n",
      "45 1.8133613366444479e-06\n",
      "46 1.6590255427217926e-06\n",
      "47 1.5168473055382492e-06\n",
      "48 1.38720224640565e-06\n",
      "49 1.2690637731793686e-06\n",
      "50 1.1615717312452034e-06\n",
      "51 1.0626147286529886e-06\n",
      "52 9.717648481455399e-07\n",
      "53 8.889405762602109e-07\n",
      "54 8.133546316457796e-07\n",
      "55 7.440854687956744e-07\n",
      "56 6.803718406445114e-07\n",
      "57 6.222431920832605e-07\n",
      "58 5.693803473150183e-07\n",
      "59 5.208572133597045e-07\n",
      "60 4.7615264975320315e-07\n",
      "61 4.3591973053480615e-07\n",
      "62 3.9834128529037116e-07\n",
      "63 3.644927346613258e-07\n",
      "64 3.3378529451510985e-07\n",
      "65 3.0491798952425597e-07\n",
      "66 2.790134772112651e-07\n",
      "67 2.5525383762214915e-07\n",
      "68 2.3337152299518493e-07\n",
      "69 2.1348712664348568e-07\n",
      "70 1.9547765361949132e-07\n",
      "71 1.7868171653390164e-07\n",
      "72 1.6364020893888664e-07\n",
      "73 1.494625081477352e-07\n",
      "74 1.3684162070148886e-07\n",
      "75 1.2537852001059946e-07\n",
      "76 1.146428303400171e-07\n",
      "77 1.0480819412350684e-07\n",
      "78 9.58786614546625e-08\n",
      "79 8.75020873536414e-08\n",
      "80 8.018191977043898e-08\n",
      "81 7.333308360557567e-08\n",
      "82 6.711748312682175e-08\n",
      "83 6.141875985576917e-08\n",
      "84 5.608842457149876e-08\n",
      "85 5.137218295203638e-08\n",
      "86 4.7050775719981175e-08\n",
      "87 4.305793765979615e-08\n",
      "88 3.929955028070253e-08\n",
      "89 3.589038044538029e-08\n",
      "90 3.282248428604362e-08\n",
      "91 3.019619043698185e-08\n",
      "92 2.7531768864719197e-08\n",
      "93 2.521244368836051e-08\n",
      "94 2.3056486497807782e-08\n",
      "95 2.1054631815786706e-08\n",
      "96 1.930142445871752e-08\n",
      "97 1.7558079434820684e-08\n",
      "98 1.6074025666057423e-08\n",
      "99 1.4662944636256725e-08\n"
     ]
    }
   ],
   "source": [
    "# Training Cycle\n",
    "for epoch in range(100):\n",
    "    # 前馈\n",
    "    y_pred = model(x_data) # 计算y_head\n",
    "    loss = criterion(y_pred, y_data) # 计算Loss\n",
    "    print(epoch, loss.item()) # loss在打印时会自动调用__str__()\n",
    "\n",
    "    optimizer.zero_grad() # 梯度归零 \n",
    "\n",
    "    # 反馈\n",
    "    loss.backward() \n",
    "    # Update\n",
    "    optimizer.step() "
   ]
  },
  {
   "cell_type": "code",
   "execution_count": 19,
   "id": "938dd2e2-e907-40bb-bc1a-fa6da7ed8360",
   "metadata": {},
   "outputs": [
    {
     "name": "stdout",
     "output_type": "stream",
     "text": [
      "w= -0.16881267726421356\n",
      "b= 0.6926451921463013\n",
      "y_pred= tensor([[0.0174]])\n"
     ]
    }
   ],
   "source": [
    "# Output weight and bias\n",
    "print('w=', model.linear.weight.item())\n",
    "print('b=', model.linear.bias.item())\n",
    "\n",
    "# Test Model\n",
    "x_test = torch.Tensor([[4.0]])\n",
    "y_test = model(x_test)\n",
    "print('y_pred=', y_test.data)\n"
   ]
  },
  {
   "cell_type": "code",
   "execution_count": null,
   "id": "ba13b059-2b03-4544-b702-5e639bd00735",
   "metadata": {},
   "outputs": [],
   "source": []
  }
 ],
 "metadata": {
  "kernelspec": {
   "display_name": "Python [conda env:base] *",
   "language": "python",
   "name": "conda-base-py"
  },
  "language_info": {
   "codemirror_mode": {
    "name": "ipython",
    "version": 3
   },
   "file_extension": ".py",
   "mimetype": "text/x-python",
   "name": "python",
   "nbconvert_exporter": "python",
   "pygments_lexer": "ipython3",
   "version": "3.12.7"
  }
 },
 "nbformat": 4,
 "nbformat_minor": 5
}
