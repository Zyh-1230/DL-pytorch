{
 "cells": [
  {
   "cell_type": "code",
   "execution_count": 95,
   "id": "3cb9d8e9-1fda-49c2-b3b0-728c56028781",
   "metadata": {},
   "outputs": [],
   "source": [
    "import torch"
   ]
  },
  {
   "cell_type": "code",
   "execution_count": 97,
   "id": "258a7e43-1a03-46a7-b1a4-6292439c1f8f",
   "metadata": {},
   "outputs": [],
   "source": [
    "num_class = 4\n",
    "batch_size = 1\n",
    "input_size = 4\n",
    "hidden_size = 8\n",
    "embedding_size = 10\n",
    "seq_len = 5\n",
    "num_layers = 2"
   ]
  },
  {
   "cell_type": "code",
   "execution_count": 99,
   "id": "66a408a9-6098-4b8f-b9c4-2aa3219c85d8",
   "metadata": {},
   "outputs": [],
   "source": [
    "idx2char = ['e', 'h', 'l', 'o']\n",
    "x_data = [[1, 0, 2, 2, 3]]\n",
    "y_data = [3, 1, 2, 3, 2]\n",
    "\n",
    "inputs = torch.LongTensor(x_data)\n",
    "labels = torch.LongTensor(y_data)"
   ]
  },
  {
   "cell_type": "code",
   "execution_count": 101,
   "id": "ae91b041-cca5-4c52-9acd-8370686bfee1",
   "metadata": {},
   "outputs": [],
   "source": [
    "class Model(torch.nn.Module):\n",
    "    def __init__(self):\n",
    "        super(Model, self).__init__()\n",
    "        self.emb = torch.nn.Embedding(input_size, embedding_size)\n",
    "        self.lstm = torch.nn.LSTM(input_size=embedding_size, hidden_size=hidden_size, num_layers=num_layers, batch_first=True)\n",
    "        self.fc = torch.nn.Linear(hidden_size, num_class)\n",
    "\n",
    "    def forward(self, x): # 初始化隐藏状态和细胞状态\n",
    "        h0 = torch.zeros(num_layers, x.size(0), hidden_size) # 作为LSTM的输出 包含当前时间步的上下文信息\n",
    "        c0 = torch.zeros(num_layers, x.size(0), hidden_size) # LSTM的核心记忆单元 负责在序列中传递关键信息\n",
    "\n",
    "        x = self.emb(x)\n",
    "        x, _ = self.lstm(x, (h0, c0)) # lstm返回(output, (h_n, c_n)) 注意 传递的是状态元组\n",
    "        x = self.fc(x)\n",
    "        return x.view(-1, num_class)\n",
    "\n",
    "net = Model()"
   ]
  },
  {
   "cell_type": "code",
   "execution_count": 103,
   "id": "9a15eb26-9cdd-43d6-82bb-3f5eabb3e922",
   "metadata": {},
   "outputs": [],
   "source": [
    "criterion = torch.nn.CrossEntropyLoss()\n",
    "optimizer = torch.optim.Adam(net.parameters(), lr=0.05)"
   ]
  },
  {
   "cell_type": "code",
   "execution_count": 105,
   "id": "7f50c56a-c990-4bf9-ba53-8bfdbcd7efd9",
   "metadata": {},
   "outputs": [
    {
     "name": "stdout",
     "output_type": "stream",
     "text": [
      "Predicted: eeeee, Epoch [1/30]: loss = 1.431\n",
      "Predicted: lllll, Epoch [2/30]: loss = 1.331\n",
      "Predicted: lllll, Epoch [3/30]: loss = 1.246\n",
      "Predicted: lllll, Epoch [4/30]: loss = 1.156\n",
      "Predicted: lllll, Epoch [5/30]: loss = 1.067\n",
      "Predicted: ollol, Epoch [6/30]: loss = 0.975\n",
      "Predicted: ollol, Epoch [7/30]: loss = 0.870\n",
      "Predicted: ollol, Epoch [8/30]: loss = 0.747\n",
      "Predicted: ohlol, Epoch [9/30]: loss = 0.631\n",
      "Predicted: ohlol, Epoch [10/30]: loss = 0.535\n",
      "Predicted: ohlol, Epoch [11/30]: loss = 0.443\n",
      "Predicted: ohlol, Epoch [12/30]: loss = 0.351\n",
      "Predicted: ohlol, Epoch [13/30]: loss = 0.274\n",
      "Predicted: ohlol, Epoch [14/30]: loss = 0.212\n",
      "Predicted: ohlol, Epoch [15/30]: loss = 0.162\n",
      "Predicted: ohlol, Epoch [16/30]: loss = 0.124\n",
      "Predicted: ohlol, Epoch [17/30]: loss = 0.095\n",
      "Predicted: ohlol, Epoch [18/30]: loss = 0.073\n",
      "Predicted: ohlol, Epoch [19/30]: loss = 0.057\n",
      "Predicted: ohlol, Epoch [20/30]: loss = 0.044\n",
      "Predicted: ohlol, Epoch [21/30]: loss = 0.035\n",
      "Predicted: ohlol, Epoch [22/30]: loss = 0.027\n",
      "Predicted: ohlol, Epoch [23/30]: loss = 0.022\n",
      "Predicted: ohlol, Epoch [24/30]: loss = 0.018\n",
      "Predicted: ohlol, Epoch [25/30]: loss = 0.015\n",
      "Predicted: ohlol, Epoch [26/30]: loss = 0.012\n",
      "Predicted: ohlol, Epoch [27/30]: loss = 0.010\n",
      "Predicted: ohlol, Epoch [28/30]: loss = 0.009\n",
      "Predicted: ohlol, Epoch [29/30]: loss = 0.008\n",
      "Predicted: ohlol, Epoch [30/30]: loss = 0.007\n"
     ]
    }
   ],
   "source": [
    "for epoch in range(30):\n",
    "    optimizer.zero_grad()\n",
    "    outputs = net(inputs)\n",
    "    loss = criterion(outputs, labels)\n",
    "    loss.backward()\n",
    "    optimizer.step()\n",
    "\n",
    "    _, idx = outputs.max(dim=1)\n",
    "    idx = idx.data.numpy()\n",
    "    print('Predicted:', ''.join([idx2char[x] for x in idx]), end='')\n",
    "    print(', Epoch [%d/30]: loss = %.3f' %(epoch+1, loss.item()))"
   ]
  },
  {
   "cell_type": "code",
   "execution_count": null,
   "id": "1a554cb5-cd40-42d6-b232-e837f8e4f541",
   "metadata": {},
   "outputs": [],
   "source": []
  }
 ],
 "metadata": {
  "kernelspec": {
   "display_name": "Python [conda env:base] *",
   "language": "python",
   "name": "conda-base-py"
  },
  "language_info": {
   "codemirror_mode": {
    "name": "ipython",
    "version": 3
   },
   "file_extension": ".py",
   "mimetype": "text/x-python",
   "name": "python",
   "nbconvert_exporter": "python",
   "pygments_lexer": "ipython3",
   "version": "3.12.7"
  }
 },
 "nbformat": 4,
 "nbformat_minor": 5
}
