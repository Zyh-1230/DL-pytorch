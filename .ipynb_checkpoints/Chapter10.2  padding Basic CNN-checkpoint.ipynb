{
 "cells": [
  {
   "cell_type": "code",
   "execution_count": 1,
   "id": "5c95ba15-48a3-46c8-b7f9-491be4bdcdce",
   "metadata": {},
   "outputs": [],
   "source": [
    "import torch"
   ]
  },
  {
   "cell_type": "code",
   "execution_count": 3,
   "id": "93c04fd0-6e14-4d93-87b9-9382de4c123d",
   "metadata": {},
   "outputs": [],
   "source": [
    "input = [3, 4, 6, 5, 7,\n",
    "         2, 4, 6, 8, 2, \n",
    "         1, 6, 7, 8, 4, \n",
    "         9, 7, 4, 6, 2,\n",
    "         3, 7, 5, 4, 1]\n",
    "\n",
    "input = torch.Tensor(input).view(1, 1, 5, 5) # B C W H"
   ]
  },
  {
   "cell_type": "code",
   "execution_count": 7,
   "id": "21ae92d8-5a1c-43fb-b2a9-f4581fbcc84a",
   "metadata": {},
   "outputs": [],
   "source": [
    "conv_layer = torch.nn.Conv2d(1, 1, kernel_size=3, padding=1, bias=False) # padding = 1 在输入图像或特征图的边缘添加额外的像素(通常为0)以保持空间形状、保留边缘信息、控制输出尺寸、减少信息损失\n",
    "\n",
    "kernel = torch.Tensor([1, 2, 3, 4, 5, 6, 7, 8, 9]).view(1, 1, 3, 3)\n",
    "conv_layer.weight.data = kernel.data\n",
    "\n",
    "output = conv_layer(input)"
   ]
  },
  {
   "cell_type": "code",
   "execution_count": 9,
   "id": "af520079-79ef-46bd-a427-042baa8d1059",
   "metadata": {},
   "outputs": [
    {
     "name": "stdout",
     "output_type": "stream",
     "text": [
      "tensor([[[[ 91., 168., 224., 215., 127.],\n",
      "          [114., 211., 295., 262., 149.],\n",
      "          [192., 259., 282., 214., 122.],\n",
      "          [194., 251., 253., 169.,  86.],\n",
      "          [ 96., 112., 110.,  68.,  31.]]]], grad_fn=<ConvolutionBackward0>)\n"
     ]
    }
   ],
   "source": [
    "print(output)"
   ]
  },
  {
   "cell_type": "code",
   "execution_count": null,
   "id": "ac883d1b-1235-4625-8dbe-6ba27a98a2ab",
   "metadata": {},
   "outputs": [],
   "source": []
  }
 ],
 "metadata": {
  "kernelspec": {
   "display_name": "Python [conda env:base] *",
   "language": "python",
   "name": "conda-base-py"
  },
  "language_info": {
   "codemirror_mode": {
    "name": "ipython",
    "version": 3
   },
   "file_extension": ".py",
   "mimetype": "text/x-python",
   "name": "python",
   "nbconvert_exporter": "python",
   "pygments_lexer": "ipython3",
   "version": "3.12.7"
  }
 },
 "nbformat": 4,
 "nbformat_minor": 5
}
