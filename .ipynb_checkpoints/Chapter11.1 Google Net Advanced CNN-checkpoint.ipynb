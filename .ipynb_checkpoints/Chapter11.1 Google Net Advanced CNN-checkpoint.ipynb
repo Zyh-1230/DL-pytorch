{
 "cells": [
  {
   "cell_type": "code",
   "execution_count": 67,
   "id": "0a0691cb-8dbc-4ade-b527-14bbe4ff20ae",
   "metadata": {},
   "outputs": [],
   "source": [
    "import torch\n",
    "from torchvision import transforms\n",
    "from torchvision import datasets\n",
    "from torch.utils.data import DataLoader\n",
    "import torch.nn.functional as F\n",
    "import torch.optim as optim"
   ]
  },
  {
   "cell_type": "code",
   "execution_count": 69,
   "id": "2d771507-8dc5-4089-bf1d-de3402eed60a",
   "metadata": {},
   "outputs": [],
   "source": [
    "batch_size = 64"
   ]
  },
  {
   "cell_type": "code",
   "execution_count": 71,
   "id": "acd78378-0c3b-4061-bb49-e4337a5fc100",
   "metadata": {},
   "outputs": [],
   "source": [
    "transform = transforms.Compose([transforms.ToTensor(), transforms.Normalize((0.1307, ), (0.3081, ))])"
   ]
  },
  {
   "cell_type": "code",
   "execution_count": 73,
   "id": "456a9266-3e37-4f98-b5f1-a5d6d89a0b85",
   "metadata": {},
   "outputs": [],
   "source": [
    "train_dataset = datasets.MNIST(root='Users/zhouyuhan/Documents/Code/PythonForAnalysis/Test/DL/dataset/mnist', train=True, download=False, transform=transform)\n",
    "train_loader = DataLoader(train_dataset, shuffle=True, batch_size=batch_size)\n",
    "\n",
    "test_dataset = datasets.MNIST(root='Users/zhouyuhan/Documents/Code/PythonForAnalysis/Test/DL/dataset/mnist', train=False, download=False, transform=transform)\n",
    "test_loader = DataLoader(test_dataset, shuffle=True, batch_size=batch_size)"
   ]
  },
  {
   "cell_type": "code",
   "execution_count": 75,
   "id": "0f142ee3-12f1-4eca-8d38-014a17399241",
   "metadata": {},
   "outputs": [],
   "source": [
    "class InceptionA(torch.nn.Module):\n",
    "    def __init__(self, in_channels):\n",
    "        super(InceptionA, self).__init__()\n",
    "        self.branch1x1 = torch.nn.Conv2d(in_channels, 16, kernel_size=1)\n",
    "\n",
    "        self.branch5x5_1 = torch.nn.Conv2d(in_channels, 16, kernel_size=1)\n",
    "        self.branch5x5_2 = torch.nn.Conv2d(16, 24, kernel_size=5, padding=2)\n",
    "\n",
    "        self.branch3x3_1 = torch.nn.Conv2d(in_channels, 16, kernel_size=1)\n",
    "        self.branch3x3_2 = torch.nn.Conv2d(16, 24, kernel_size=3, padding=1)\n",
    "        self.branch3x3_3 = torch.nn.Conv2d(24, 24, kernel_size=3, padding=1)\n",
    "\n",
    "        self.branch_pool = torch.nn.Conv2d(in_channels, 24, kernel_size=1)\n",
    "\n",
    "    def forward(self, x):\n",
    "        branch1x1 = self.branch1x1(x)\n",
    "\n",
    "        branch5x5 = self.branch5x5_1(x)\n",
    "        branch5x5 = self.branch5x5_2(branch5x5)\n",
    "\n",
    "        branch3x3 = self.branch3x3_1(x)\n",
    "        branch3x3 = self.branch3x3_2(branch3x3)\n",
    "        branch3x3 = self.branch3x3_3(branch3x3)\n",
    "\n",
    "        branch_pool = F.avg_pool2d(x, kernel_size=3, stride=1, padding=1)\n",
    "        branch_pool = self.branch_pool(branch_pool)\n",
    "\n",
    "        outputs = [branch1x1, branch5x5, branch3x3, branch_pool]\n",
    "        return torch.cat(outputs, dim=1)"
   ]
  },
  {
   "cell_type": "code",
   "execution_count": 77,
   "id": "b3e47e68-750d-4bf4-bdad-26de2ca454fa",
   "metadata": {},
   "outputs": [],
   "source": [
    "class Net(torch.nn.Module):\n",
    "    def __init__(self):\n",
    "        super(Net, self).__init__()\n",
    "        self.conv1 = torch.nn.Conv2d(1, 10, kernel_size=5)\n",
    "        self.conv2 = torch.nn.Conv2d(88, 20, kernel_size=5)\n",
    "\n",
    "        self.incep1 = InceptionA(in_channels=10)\n",
    "        self.incep2 = InceptionA(in_channels=20)\n",
    "\n",
    "        self.mp = torch.nn.MaxPool2d(2)\n",
    "        self.fc = torch.nn.Linear(1408, 10) # 1408随后输入 待计算后得出size\n",
    "\n",
    "    def forward(self, x):\n",
    "        in_size = x.size(0)\n",
    "        x = F.relu(self.mp(self.conv1(x)))\n",
    "        x = self.incep1(x)\n",
    "        x = F.relu(self.mp(self.conv2(x)))\n",
    "        x = self.incep2(x)\n",
    "        x = x.view(in_size, -1) # 同1408\n",
    "        x = self.fc(x) # 同1408\n",
    "        return x\n",
    "\n",
    "model = Net()"
   ]
  },
  {
   "cell_type": "code",
   "execution_count": 79,
   "id": "fd96e6c5-752e-42ec-8236-563e67f7e232",
   "metadata": {},
   "outputs": [],
   "source": [
    "criterion = torch.nn.CrossEntropyLoss()\n",
    "\n",
    "optimizer = optim.SGD(model.parameters(), lr=0.01, momentum=0.5)"
   ]
  },
  {
   "cell_type": "code",
   "execution_count": 93,
   "id": "6f867197-01a2-4189-834f-b16c91cc0896",
   "metadata": {},
   "outputs": [],
   "source": [
    "acc_list = []\n",
    "epoch_acc_list = []"
   ]
  },
  {
   "cell_type": "code",
   "execution_count": 95,
   "id": "f0c40928-1db7-4515-8643-313f1998f255",
   "metadata": {},
   "outputs": [],
   "source": [
    "def train(epoch):\n",
    "    running_loss = 0.0\n",
    "    for batch_idx, data in enumerate(train_loader, 0):\n",
    "        inputs, target = data\n",
    "        optimizer.zero_grad()\n",
    "\n",
    "        outputs = model(inputs)\n",
    "        loss = criterion(outputs, target)\n",
    "        loss.backward()\n",
    "        optimizer.step()\n",
    "\n",
    "        running_loss += loss.item()\n",
    "        if batch_idx % 300 == 299:\n",
    "            print('[%d, %5d] loss: %.3f' % (epoch + 1, batch_idx + 1, running_loss / 300))\n",
    "            running_loss = 0.0\n",
    "\n",
    "def test():\n",
    "    correct = 0\n",
    "    total = 0\n",
    "    with torch.no_grad():\n",
    "        for data in test_loader:\n",
    "            inputs, target = data\n",
    "            outputs = model(inputs)\n",
    "            _, predicted = torch.max(outputs.data, dim=1)\n",
    "            total += target.size(0)\n",
    "            correct += (predicted == target).sum().item()\n",
    "            acc_list.append(100*correct / total)\n",
    "\n",
    "        epoch_acc = 100 * correct / total\n",
    "        print('Accuracy on test set: %d %% [%d/%d]' % (100 * correct / total, correct, total))\n",
    "\n",
    "        epoch_acc_list.append(epoch_acc)"
   ]
  },
  {
   "cell_type": "code",
   "execution_count": 97,
   "id": "678de701-901d-48f3-b74b-66c5f5c14cf5",
   "metadata": {},
   "outputs": [
    {
     "name": "stdout",
     "output_type": "stream",
     "text": [
      "[1,   300] loss: 0.034\n",
      "[1,   600] loss: 0.031\n",
      "[1,   900] loss: 0.031\n",
      "Accuracy on test set: 98 % [9888/10000]\n",
      "[2,   300] loss: 0.026\n",
      "[2,   600] loss: 0.033\n",
      "[2,   900] loss: 0.031\n",
      "Accuracy on test set: 98 % [9890/10000]\n",
      "[3,   300] loss: 0.025\n",
      "[3,   600] loss: 0.029\n",
      "[3,   900] loss: 0.030\n",
      "Accuracy on test set: 98 % [9881/10000]\n",
      "[4,   300] loss: 0.025\n",
      "[4,   600] loss: 0.024\n",
      "[4,   900] loss: 0.030\n",
      "Accuracy on test set: 98 % [9875/10000]\n",
      "[5,   300] loss: 0.025\n",
      "[5,   600] loss: 0.022\n",
      "[5,   900] loss: 0.025\n",
      "Accuracy on test set: 98 % [9864/10000]\n",
      "[6,   300] loss: 0.023\n",
      "[6,   600] loss: 0.022\n",
      "[6,   900] loss: 0.026\n",
      "Accuracy on test set: 98 % [9897/10000]\n",
      "[7,   300] loss: 0.020\n",
      "[7,   600] loss: 0.025\n",
      "[7,   900] loss: 0.022\n",
      "Accuracy on test set: 98 % [9895/10000]\n",
      "[8,   300] loss: 0.018\n",
      "[8,   600] loss: 0.023\n",
      "[8,   900] loss: 0.022\n",
      "Accuracy on test set: 98 % [9894/10000]\n",
      "[9,   300] loss: 0.019\n",
      "[9,   600] loss: 0.022\n",
      "[9,   900] loss: 0.018\n",
      "Accuracy on test set: 98 % [9894/10000]\n",
      "[10,   300] loss: 0.017\n",
      "[10,   600] loss: 0.018\n",
      "[10,   900] loss: 0.022\n",
      "Accuracy on test set: 98 % [9892/10000]\n"
     ]
    }
   ],
   "source": [
    "if __name__ == '__main__':\n",
    "    for epoch in range(10):\n",
    "        train(epoch)\n",
    "        test()"
   ]
  },
  {
   "cell_type": "code",
   "execution_count": 98,
   "id": "d4a28367-9e38-4a34-8274-6a5bb6f548b2",
   "metadata": {},
   "outputs": [],
   "source": [
    "import matplotlib.pyplot as plt"
   ]
  },
  {
   "cell_type": "code",
   "execution_count": 103,
   "id": "e81ae4c2-2d00-4ef7-a94d-6d9c9a54dd65",
   "metadata": {},
   "outputs": [
    {
     "data": {
      "image/png": "[encoded data removed]",
      "text/plain": [
       "<Figure size 640x480 with 1 Axes>"
      ]
     },
     "metadata": {},
     "output_type": "display_data"
    }
   ],
   "source": [
    "plt.figure()\n",
    "plt.plot(range(1, len(epoch_acc_list)+1), epoch_acc_list, 'o-')\n",
    "plt.xlabel('Epoch')\n",
    "plt.ylabel('Accuracy(%)')\n",
    "plt.grid(True)\n",
    "plt.show()"
   ]
  },
  {
   "cell_type": "code",
   "execution_count": null,
   "id": "c4c4b6be-cc47-49e8-bb1c-2ac37d319953",
   "metadata": {},
   "outputs": [],
   "source": []
  }
 ],
 "metadata": {
  "kernelspec": {
   "display_name": "Python [conda env:base] *",
   "language": "python",
   "name": "conda-base-py"
  },
  "language_info": {
   "codemirror_mode": {
    "name": "ipython",
    "version": 3
   },
   "file_extension": ".py",
   "mimetype": "text/x-python",
   "name": "python",
   "nbconvert_exporter": "python",
   "pygments_lexer": "ipython3",
   "version": "3.12.7"
  }
 },
 "nbformat": 4,
 "nbformat_minor": 5
}
