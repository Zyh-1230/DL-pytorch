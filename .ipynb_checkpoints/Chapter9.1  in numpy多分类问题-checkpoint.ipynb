{
 "cells": [
  {
   "cell_type": "code",
   "execution_count": 1,
   "id": "8723b419-9a54-47ac-8733-d97c036a706c",
   "metadata": {},
   "outputs": [],
   "source": [
    "import numpy as np"
   ]
  },
  {
   "cell_type": "code",
   "execution_count": 11,
   "id": "44b6fc21-3c06-47b0-88ec-27e45492d78a",
   "metadata": {},
   "outputs": [],
   "source": [
    "y = np.array([1, 0, 0])\n",
    "z = np.array([0.2, 0.1, -0.1])"
   ]
  },
  {
   "cell_type": "code",
   "execution_count": 19,
   "id": "d250f363-d9f8-4b6c-9338-9877ff166fae",
   "metadata": {},
   "outputs": [],
   "source": [
    "y_pred = np.exp(z) / np.exp(z).sum() # Softmax layer\n",
    "loss = (- y * np.log(y_pred)).sum()"
   ]
  },
  {
   "cell_type": "code",
   "execution_count": 21,
   "id": "88e7a606-5321-4c43-9f9e-bb94c4725a12",
   "metadata": {},
   "outputs": [
    {
     "name": "stdout",
     "output_type": "stream",
     "text": [
      "0.9729189131256584\n"
     ]
    }
   ],
   "source": [
    "print(loss)"
   ]
  },
  {
   "cell_type": "code",
   "execution_count": null,
   "id": "82a426a4-1a6a-4988-b65f-32a8204f7e93",
   "metadata": {},
   "outputs": [],
   "source": []
  }
 ],
 "metadata": {
  "kernelspec": {
   "display_name": "Python [conda env:base] *",
   "language": "python",
   "name": "conda-base-py"
  },
  "language_info": {
   "codemirror_mode": {
    "name": "ipython",
    "version": 3
   },
   "file_extension": ".py",
   "mimetype": "text/x-python",
   "name": "python",
   "nbconvert_exporter": "python",
   "pygments_lexer": "ipython3",
   "version": "3.12.7"
  }
 },
 "nbformat": 4,
 "nbformat_minor": 5
}
