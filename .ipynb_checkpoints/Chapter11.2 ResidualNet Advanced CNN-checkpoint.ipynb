{
 "cells": [
  {
   "cell_type": "code",
   "execution_count": 50,
   "id": "0a0691cb-8dbc-4ade-b527-14bbe4ff20ae",
   "metadata": {},
   "outputs": [],
   "source": [
    "import torch\n",
    "from torchvision import transforms\n",
    "from torchvision import datasets\n",
    "from torch.utils.data import DataLoader\n",
    "import torch.nn.functional as F\n",
    "import torch.optim as optim\n",
    "import matplotlib.pyplot as plt"
   ]
  },
  {
   "cell_type": "code",
   "execution_count": 52,
   "id": "2d771507-8dc5-4089-bf1d-de3402eed60a",
   "metadata": {},
   "outputs": [],
   "source": [
    "batch_size = 64\n",
    "\n",
    "acc_list = []\n",
    "epoch_acc_list = []"
   ]
  },
  {
   "cell_type": "code",
   "execution_count": 54,
   "id": "acd78378-0c3b-4061-bb49-e4337a5fc100",
   "metadata": {},
   "outputs": [],
   "source": [
    "transform = transforms.Compose([transforms.ToTensor(), transforms.Normalize((0.1307, ), (0.3081, ))])"
   ]
  },
  {
   "cell_type": "code",
   "execution_count": 56,
   "id": "456a9266-3e37-4f98-b5f1-a5d6d89a0b85",
   "metadata": {},
   "outputs": [],
   "source": [
    "train_dataset = datasets.MNIST(root='Users/zhouyuhan/Documents/Code/PythonForAnalysis/Test/DL/dataset/mnist', train=True, download=False, transform=transform)\n",
    "train_loader = DataLoader(train_dataset, shuffle=True, batch_size=batch_size)\n",
    "\n",
    "test_dataset = datasets.MNIST(root='Users/zhouyuhan/Documents/Code/PythonForAnalysis/Test/DL/dataset/mnist', train=False, download=False, transform=transform)\n",
    "test_loader = DataLoader(test_dataset, shuffle=True, batch_size=batch_size)"
   ]
  },
  {
   "cell_type": "code",
   "execution_count": 58,
   "id": "e35725b2-15ec-426f-886d-d40c70271c5a",
   "metadata": {},
   "outputs": [],
   "source": [
    "class ResidualBlock(torch.nn.Module):\n",
    "    def __init__(self, channels):\n",
    "        super(ResidualBlock, self).__init__()\n",
    "        self.channels = channels\n",
    "        self.conv1 = torch.nn.Conv2d(channels, channels, kernel_size=3, padding=1)\n",
    "        self.conv2 = torch.nn.Conv2d(channels, channels, kernel_size=3, padding=1)\n",
    "\n",
    "    def forward(self, x):\n",
    "        y = F.relu(self.conv1(x))\n",
    "        y = self.conv2(y)\n",
    "        return F.relu(x + y)"
   ]
  },
  {
   "cell_type": "code",
   "execution_count": 60,
   "id": "44cab768-98f9-4832-9af6-898f43bccb56",
   "metadata": {},
   "outputs": [],
   "source": [
    "class Net(torch.nn.Module):\n",
    "    def __init__(self):\n",
    "        super(Net, self).__init__()\n",
    "        self.conv1 = torch.nn.Conv2d(1, 16, kernel_size=5)\n",
    "        self.conv2 = torch.nn.Conv2d(16, 32, kernel_size=5)\n",
    "        self.mp = torch.nn.MaxPool2d(2)\n",
    "\n",
    "        self.rblock1 = ResidualBlock(16)\n",
    "        self.rblock2 = ResidualBlock(32)\n",
    "\n",
    "        self.fc = torch.nn.Linear(512, 19)\n",
    "\n",
    "    def forward(self, x):\n",
    "        in_size = x.size(0)\n",
    "        x = self.mp(F.relu(self.conv1(x)))\n",
    "        x = self.rblock1(x)\n",
    "        x = self.mp(F.relu(self.conv2(x)))\n",
    "        x = self.rblock2(x)\n",
    "        x = x.view(in_size, -1)\n",
    "        x = self.fc(x)\n",
    "        return x\n",
    "\n",
    "model = Net()"
   ]
  },
  {
   "cell_type": "code",
   "execution_count": 62,
   "id": "fd96e6c5-752e-42ec-8236-563e67f7e232",
   "metadata": {},
   "outputs": [],
   "source": [
    "criterion = torch.nn.CrossEntropyLoss()\n",
    "\n",
    "optimizer = optim.SGD(model.parameters(), lr=0.01, momentum=0.5)"
   ]
  },
  {
   "cell_type": "code",
   "execution_count": 79,
   "id": "f0c40928-1db7-4515-8643-313f1998f255",
   "metadata": {},
   "outputs": [],
   "source": [
    "def train(epoch):\n",
    "    running_loss = 0.0\n",
    "    for batch_idx, data in enumerate(train_loader, 0):\n",
    "        inputs, target = data\n",
    "        optimizer.zero_grad()\n",
    "\n",
    "        outputs = model(inputs)\n",
    "        loss = criterion(outputs, target)\n",
    "        loss.backward()\n",
    "        optimizer.step()\n",
    "\n",
    "        running_loss += loss.item()\n",
    "        if batch_idx % 300 == 299:\n",
    "            print('[%d, %5d] loss: %.3f' % (epoch + 1, batch_idx + 1, running_loss / 300))\n",
    "            running_loss = 0.0\n",
    "\n",
    "def test():\n",
    "    correct = 0\n",
    "    total = 0\n",
    "    with torch.no_grad():\n",
    "        for data in test_loader:\n",
    "            inputs, target = data\n",
    "            outputs = model(inputs)\n",
    "            _, predicted = torch.max(outputs.data, dim=1)\n",
    "            total += target.size(0)\n",
    "            correct += (predicted == target).sum().item()\n",
    "            acc_list.append(100 * correct / total)\n",
    "\n",
    "        epoch_acc = 100 * correct / total\n",
    "        print('Accuracy on test set: %d %% [%d/%d]' % (epoch_acc, correct, total))\n",
    "        epoch_acc_list.append(epoch_acc)"
   ]
  },
  {
   "cell_type": "code",
   "execution_count": 81,
   "id": "678de701-901d-48f3-b74b-66c5f5c14cf5",
   "metadata": {},
   "outputs": [
    {
     "name": "stdout",
     "output_type": "stream",
     "text": [
      "[1,   300] loss: 0.016\n",
      "[1,   600] loss: 0.019\n",
      "[1,   900] loss: 0.020\n",
      "Accuracy on test set: 98 % [9892/10000]\n",
      "[2,   300] loss: 0.018\n",
      "[2,   600] loss: 0.014\n",
      "[2,   900] loss: 0.019\n",
      "Accuracy on test set: 99 % [9915/10000]\n",
      "[3,   300] loss: 0.013\n",
      "[3,   600] loss: 0.015\n",
      "[3,   900] loss: 0.017\n",
      "Accuracy on test set: 98 % [9897/10000]\n",
      "[4,   300] loss: 0.014\n",
      "[4,   600] loss: 0.015\n",
      "[4,   900] loss: 0.012\n",
      "Accuracy on test set: 99 % [9904/10000]\n",
      "[5,   300] loss: 0.010\n",
      "[5,   600] loss: 0.014\n",
      "[5,   900] loss: 0.014\n",
      "Accuracy on test set: 99 % [9906/10000]\n",
      "[6,   300] loss: 0.011\n",
      "[6,   600] loss: 0.014\n",
      "[6,   900] loss: 0.010\n",
      "Accuracy on test set: 98 % [9888/10000]\n",
      "[7,   300] loss: 0.010\n",
      "[7,   600] loss: 0.010\n",
      "[7,   900] loss: 0.009\n",
      "Accuracy on test set: 99 % [9907/10000]\n",
      "[8,   300] loss: 0.009\n",
      "[8,   600] loss: 0.008\n",
      "[8,   900] loss: 0.012\n",
      "Accuracy on test set: 99 % [9918/10000]\n",
      "[9,   300] loss: 0.007\n",
      "[9,   600] loss: 0.009\n",
      "[9,   900] loss: 0.010\n",
      "Accuracy on test set: 99 % [9915/10000]\n",
      "[10,   300] loss: 0.009\n",
      "[10,   600] loss: 0.006\n",
      "[10,   900] loss: 0.008\n",
      "Accuracy on test set: 99 % [9912/10000]\n"
     ]
    }
   ],
   "source": [
    "if __name__ == '__main__':\n",
    "    for epoch in range(10):\n",
    "        train(epoch)\n",
    "        test()"
   ]
  },
  {
   "cell_type": "code",
   "execution_count": 82,
   "id": "c4c4b6be-cc47-49e8-bb1c-2ac37d319953",
   "metadata": {},
   "outputs": [
    {
     "data": {
      "image/png": "[encoded data removed]",
      "text/plain": [
       "<Figure size 640x480 with 1 Axes>"
      ]
     },
     "metadata": {},
     "output_type": "display_data"
    }
   ],
   "source": [
    "plt.figure()\n",
    "plt.plot(range(1, len(epoch_acc_list)+1), epoch_acc_list, 'o-')\n",
    "plt.xlabel('Epoch')\n",
    "plt.ylabel('Accuracy(%)')\n",
    "plt.title('Epoch-wise Accuracy')\n",
    "plt.grid(True)\n",
    "plt.show()\n",
    "         "
   ]
  },
  {
   "cell_type": "code",
   "execution_count": null,
   "id": "590eb503-df50-4b62-9174-14e8890d4d1e",
   "metadata": {},
   "outputs": [],
   "source": []
  }
 ],
 "metadata": {
  "kernelspec": {
   "display_name": "Python [conda env:base] *",
   "language": "python",
   "name": "conda-base-py"
  },
  "language_info": {
   "codemirror_mode": {
    "name": "ipython",
    "version": 3
   },
   "file_extension": ".py",
   "mimetype": "text/x-python",
   "name": "python",
   "nbconvert_exporter": "python",
   "pygments_lexer": "ipython3",
   "version": "3.12.7"
  }
 },
 "nbformat": 4,
 "nbformat_minor": 5
}
