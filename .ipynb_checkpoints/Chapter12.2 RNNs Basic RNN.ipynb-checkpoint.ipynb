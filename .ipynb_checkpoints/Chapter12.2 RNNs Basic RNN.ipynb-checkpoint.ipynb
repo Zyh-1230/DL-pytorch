{
 "cells": [
  {
   "cell_type": "code",
   "execution_count": 3,
   "id": "545dd105-9fc2-43bc-97dd-4dc10607b7fd",
   "metadata": {},
   "outputs": [],
   "source": [
    "import torch"
   ]
  },
  {
   "cell_type": "code",
   "execution_count": 5,
   "id": "7f66549f-5b46-4e9a-bf02-7b22666495f1",
   "metadata": {},
   "outputs": [],
   "source": [
    "batch_size = 1\n",
    "seq_len = 3\n",
    "input_size = 4\n",
    "hidden_size = 2\n",
    "num_layers = 1"
   ]
  },
  {
   "cell_type": "code",
   "execution_count": 27,
   "id": "bee61778-1a01-4cc5-9c5c-9637f0a440a8",
   "metadata": {},
   "outputs": [],
   "source": [
    "cell = torch.nn.RNN(input_size=input_size, hidden_size=hidden_size, num_layers=num_layers)\n",
    "# RNN中有参数batch_first(bool), 若设置为True，记得在后续使用时将batchSize置于seqlen之前"
   ]
  },
  {
   "cell_type": "code",
   "execution_count": 29,
   "id": "b496546c-3879-4a4a-9581-05c784a4b78a",
   "metadata": {},
   "outputs": [],
   "source": [
    "inputs = torch.randn(seq_len, batch_size, input_size)\n",
    "# seq_len: 序列长度、时间步数量--处理句子时单词的数量\n",
    "# batch_size: 同时处理的序列数量\n",
    "# input_size: 每个时间步输入的特征向量维度\n",
    "# hidden_size： hidden的维度大小\n",
    "# num_layers: RNN层数--创建深层RNN结构 每层输出作为下一层的输入\n",
    "hidden = torch.zeros(num_layers, batch_size, hidden_size)"
   ]
  },
  {
   "cell_type": "code",
   "execution_count": 31,
   "id": "fd4ba834-5211-48fd-b942-8c6f64628a89",
   "metadata": {},
   "outputs": [],
   "source": [
    "out, hidden = cell(inputs, hidden)\n",
    "# out: h_i, i=1...N  shape(seqlen, batch, hidden_size)\n",
    "# hidden: h_N  shape(numLayers, batch, hidden_size)\n",
    "# inputs: 所有的输入序列  shape(seqSize, batch, input_size)\n",
    "# hidden: h_0  shape(numLayers, batch,, hidden_size)"
   ]
  },
  {
   "cell_type": "code",
   "execution_count": 33,
   "id": "4b1d62da-ec15-43c1-8708-60f3483e94da",
   "metadata": {},
   "outputs": [
    {
     "name": "stdout",
     "output_type": "stream",
     "text": [
      "Output size: torch.Size([3, 1, 2])\n",
      "Output: tensor([[[ 0.7166,  0.0165]],\n",
      "\n",
      "        [[ 0.8972, -0.4250]],\n",
      "\n",
      "        [[ 0.9518,  0.3213]]], grad_fn=<StackBackward0>)\n",
      "Hidden size: torch.Size([1, 1, 2])\n",
      "Hidden: tensor([[[0.9518, 0.3213]]], grad_fn=<StackBackward0>)\n"
     ]
    }
   ],
   "source": [
    "print('Output size:', out.shape)\n",
    "print('Output:', out)\n",
    "print('Hidden size:', hidden.shape)\n",
    "print('Hidden:', hidden)"
   ]
  },
  {
   "cell_type": "code",
   "execution_count": null,
   "id": "6db1b4bb-103e-40a2-b34c-37e975a3eea2",
   "metadata": {},
   "outputs": [],
   "source": []
  }
 ],
 "metadata": {
  "kernelspec": {
   "display_name": "Python [conda env:base] *",
   "language": "python",
   "name": "conda-base-py"
  },
  "language_info": {
   "codemirror_mode": {
    "name": "ipython",
    "version": 3
   },
   "file_extension": ".py",
   "mimetype": "text/x-python",
   "name": "python",
   "nbconvert_exporter": "python",
   "pygments_lexer": "ipython3",
   "version": "3.12.7"
  }
 },
 "nbformat": 4,
 "nbformat_minor": 5
}
