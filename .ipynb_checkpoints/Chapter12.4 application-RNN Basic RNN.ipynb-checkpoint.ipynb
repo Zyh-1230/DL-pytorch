{
 "cells": [
  {
   "cell_type": "code",
   "execution_count": 23,
   "id": "bcd02347-ea5f-4324-81a9-3333662fd75a",
   "metadata": {},
   "outputs": [],
   "source": [
    "import torch"
   ]
  },
  {
   "cell_type": "code",
   "execution_count": 25,
   "id": "232b4f6d-4abf-4511-9701-4f93656611d3",
   "metadata": {},
   "outputs": [],
   "source": [
    "input_size = 4\n",
    "hidden_size = 4\n",
    "num_layers = 1\n",
    "batch_size = 1\n",
    "seq_len = 5"
   ]
  },
  {
   "cell_type": "code",
   "execution_count": 27,
   "id": "57a68c68-9c22-45f6-8885-f8529f153d20",
   "metadata": {},
   "outputs": [],
   "source": [
    "idx2char = ['e', 'h', 'l', 'o']\n",
    "x_data = [1, 0, 2, 2, 3]\n",
    "y_data = [3, 1, 2, 3, 2]\n",
    "\n",
    "one_hot_lookup = [[1, 0, 0, 0],\n",
    "                  [0, 1, 0, 0],\n",
    "                  [0, 0, 1, 0],\n",
    "                  [0, 0, 0, 1]]\n",
    "x_one_hot = [one_hot_lookup[x] for x in x_data]\n",
    "\n",
    "inputs = torch.Tensor(x_one_hot).view(seq_len, batch_size, input_size)\n",
    "labels = torch.LongTensor(y_data)"
   ]
  },
  {
   "cell_type": "code",
   "execution_count": 39,
   "id": "63a99c2e-af0a-43b4-ac8a-3fdbdd47439d",
   "metadata": {},
   "outputs": [],
   "source": [
    "class Model(torch.nn.Module):\n",
    "    def __init__(self, input_size, hidden_size, batch_size, num_layers=1):\n",
    "        super(Model, self).__init__()\n",
    "        self.num_layers = num_layers\n",
    "        self.batch_size = batch_size\n",
    "        self.input_size = input_size\n",
    "        self.hidden_size = hidden_size\n",
    "        self.rnn = torch.nn.RNN(input_size=self.input_size, hidden_size=self.hidden_size, num_layers=num_layers)\n",
    "\n",
    "    def forward(self, input):\n",
    "        hidden = torch.zeros(self.num_layers, self.batch_size, self.hidden_size)\n",
    "        out, _ = self.rnn(input, hidden)\n",
    "        return out.view(-1, self.hidden_size)\n",
    "\n",
    "net = Model(input_size, hidden_size, batch_size, num_layers)"
   ]
  },
  {
   "cell_type": "code",
   "execution_count": 41,
   "id": "30604a67-8065-4d1d-9de5-a5a54b2deea9",
   "metadata": {},
   "outputs": [],
   "source": [
    "criterion = torch.nn.CrossEntropyLoss()\n",
    "\n",
    "optimizer = torch.optim.Adam(net.parameters(), lr=0.05)"
   ]
  },
  {
   "cell_type": "code",
   "execution_count": 47,
   "id": "6af6cae0-d4ca-4ba5-91bf-6f6b635698e8",
   "metadata": {},
   "outputs": [
    {
     "name": "stdout",
     "output_type": "stream",
     "text": [
      "Predicted: ooooo, Epoch [1/15] loss=1.369\n",
      "Predicted: ooooo, Epoch [2/15] loss=1.248\n",
      "Predicted: ooooo, Epoch [3/15] loss=1.138\n",
      "Predicted: ooooo, Epoch [4/15] loss=1.047\n",
      "Predicted: oolol, Epoch [5/15] loss=0.975\n",
      "Predicted: oolol, Epoch [6/15] loss=0.918\n",
      "Predicted: ohlol, Epoch [7/15] loss=0.871\n",
      "Predicted: ohlol, Epoch [8/15] loss=0.831\n",
      "Predicted: ohlol, Epoch [9/15] loss=0.794\n",
      "Predicted: ohlol, Epoch [10/15] loss=0.757\n",
      "Predicted: ohlol, Epoch [11/15] loss=0.720\n",
      "Predicted: ohlol, Epoch [12/15] loss=0.684\n",
      "Predicted: ohlol, Epoch [13/15] loss=0.652\n",
      "Predicted: ohlol, Epoch [14/15] loss=0.624\n",
      "Predicted: ohlol, Epoch [15/15] loss=0.600\n"
     ]
    }
   ],
   "source": [
    "for epoch in range(15):\n",
    "    optimizer.zero_grad()\n",
    "    outputs = net(inputs)\n",
    "    loss = criterion(outputs, labels)\n",
    "    loss.backward()\n",
    "    optimizer.step()\n",
    "    \n",
    "    _, idx = outputs.max(dim=1)\n",
    "    idx = idx.data.numpy()\n",
    "    print('Predicted:', ''.join([idx2char[x] for x in idx]), end='')\n",
    "    print(', Epoch [%d/15] loss=%.3f' % (epoch+1, loss.item()))"
   ]
  }
 ],
 "metadata": {
  "kernelspec": {
   "display_name": "Python [conda env:base] *",
   "language": "python",
   "name": "conda-base-py"
  },
  "language_info": {
   "codemirror_mode": {
    "name": "ipython",
    "version": 3
   },
   "file_extension": ".py",
   "mimetype": "text/x-python",
   "name": "python",
   "nbconvert_exporter": "python",
   "pygments_lexer": "ipython3",
   "version": "3.12.7"
  }
 },
 "nbformat": 4,
 "nbformat_minor": 5
}
