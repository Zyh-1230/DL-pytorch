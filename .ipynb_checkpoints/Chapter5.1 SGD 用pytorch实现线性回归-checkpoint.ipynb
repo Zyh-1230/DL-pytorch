{
 "cells": [
  {
   "cell_type": "code",
   "execution_count": 17,
   "id": "042960e3-a3bb-4258-b330-a745fc2d73ba",
   "metadata": {},
   "outputs": [],
   "source": [
    "import torch"
   ]
  },
  {
   "cell_type": "code",
   "execution_count": 19,
   "id": "5764c0e2-ee86-4b06-8f11-1b939242a116",
   "metadata": {},
   "outputs": [],
   "source": [
    "x_data = torch.Tensor([[1.0], [2.0], [3.0]])\n",
    "y_data = torch.Tensor([[2.0], [4.0], [6.0]])"
   ]
  },
  {
   "cell_type": "code",
   "execution_count": 29,
   "id": "735a5b8c-084c-41e9-9848-34e96e79edae",
   "metadata": {},
   "outputs": [],
   "source": [
    "# 构造模型\n",
    "class LinearModel(torch.nn.Module):\n",
    "    def __init__(self):\n",
    "        super(LinearModel, self).__init__()\n",
    "        # torch.nn.Linear(in_features, out_features, bias=True, device=None, dtype=None) 实现全连接层\n",
    "        # in_features: 输入特征的数量(输入张量的最后一维大小) out_features:输出特征的数量(输出张量的最后一维大小)\n",
    "        # bias:是否添加可学习的偏置项\n",
    "        self.linear = torch.nn.Linear(1, 1) # 输入维度为1 输出维度为1 \n",
    "\n",
    "    def forward(self, x):\n",
    "        y_pred = self.linear(x) # 对象+() 代表可调用对象\n",
    "        return y_pred\n",
    "\n",
    "model = LinearModel() # model is callable"
   ]
  },
  {
   "cell_type": "code",
   "execution_count": 31,
   "id": "8e3f9ef2-daa2-4c61-b771-6186acec80a9",
   "metadata": {},
   "outputs": [],
   "source": [
    "# 构造损失函数及优化器\n",
    "# class torch.nn.MSELoss(size_average=True, reduce=True)\n",
    "# size_average是否求所有样本的损失均值 reduce是否为降维处理\n",
    "# criterion(y_head, y)\n",
    "criterion = torch.nn.MSELoss(size_average=False)\n",
    "\n",
    "# class torch.optim.SGD(params, lr=<object object>, momentum=0, dampening=0, weight_decay=0, nesterov=False)\n",
    "# SGD随机梯度下降\n",
    "# params权重--在model中没有定义相应的权重 只有linear这一个成员 model.parameters()会检查model中所有成员 将相应的权重加到最后的训练结果上\n",
    "# lr--learning rate\n",
    "optimizer = torch.optim.SGD(model.parameters(), lr=0.01)"
   ]
  },
  {
   "cell_type": "code",
   "execution_count": 33,
   "id": "2ec372fc-d0c2-435f-a64a-90471ca20d54",
   "metadata": {},
   "outputs": [
    {
     "name": "stdout",
     "output_type": "stream",
     "text": [
      "0 42.201969146728516\n",
      "1 18.81220817565918\n",
      "2 8.399391174316406\n",
      "3 3.763545036315918\n",
      "4 1.6994484663009644\n",
      "5 0.7802256345748901\n",
      "6 0.3706730604171753\n",
      "7 0.18801632523536682\n",
      "8 0.10637259483337402\n",
      "9 0.06970123201608658\n",
      "10 0.05305497720837593\n",
      "11 0.04532792419195175\n",
      "12 0.041576072573661804\n",
      "13 0.039598364382982254\n",
      "14 0.038414839655160904\n",
      "15 0.03758931905031204\n",
      "16 0.0369272455573082\n",
      "17 0.0363423116505146\n",
      "18 0.035795848816633224\n",
      "19 0.03527069836854935\n",
      "20 0.03475905582308769\n",
      "21 0.03425731509923935\n",
      "22 0.0337640680372715\n",
      "23 0.03327848017215729\n",
      "24 0.03280000761151314\n",
      "25 0.032328445464372635\n",
      "26 0.03186390548944473\n",
      "27 0.031405895948410034\n",
      "28 0.030954593792557716\n",
      "29 0.03050965443253517\n",
      "30 0.03007117286324501\n",
      "31 0.029639065265655518\n",
      "32 0.029213109984993935\n",
      "33 0.028793228790163994\n",
      "34 0.02837940864264965\n",
      "35 0.027971608564257622\n",
      "36 0.027569547295570374\n",
      "37 0.027173256501555443\n",
      "38 0.0267828069627285\n",
      "39 0.026397939771413803\n",
      "40 0.026018556207418442\n",
      "41 0.025644559413194656\n",
      "42 0.025276001542806625\n",
      "43 0.024912841618061066\n",
      "44 0.024554794654250145\n",
      "45 0.024201851338148117\n",
      "46 0.023854032158851624\n",
      "47 0.023511191830039024\n",
      "48 0.02317330241203308\n",
      "49 0.022840293124318123\n",
      "50 0.022512029856443405\n",
      "51 0.022188514471054077\n",
      "52 0.021869616582989693\n",
      "53 0.021555345505475998\n",
      "54 0.021245505660772324\n",
      "55 0.020940233021974564\n",
      "56 0.02063930593430996\n",
      "57 0.020342625677585602\n",
      "58 0.0200502872467041\n",
      "59 0.01976216584444046\n",
      "60 0.019478149712085724\n",
      "61 0.01919821836054325\n",
      "62 0.01892227493226528\n",
      "63 0.01865038089454174\n",
      "64 0.018382349982857704\n",
      "65 0.018118176609277725\n",
      "66 0.017857778817415237\n",
      "67 0.017601123079657555\n",
      "68 0.017348162829875946\n",
      "69 0.017098868265748024\n",
      "70 0.0168530885130167\n",
      "71 0.016610849648714066\n",
      "72 0.01637224107980728\n",
      "73 0.016136957332491875\n",
      "74 0.01590496115386486\n",
      "75 0.015676410868763924\n",
      "76 0.015451056882739067\n",
      "77 0.015229050070047379\n",
      "78 0.015010160394012928\n",
      "79 0.014794500544667244\n",
      "80 0.014581838622689247\n",
      "81 0.0143723264336586\n",
      "82 0.014165705069899559\n",
      "83 0.013962142169475555\n",
      "84 0.013761438429355621\n",
      "85 0.013563723303377628\n",
      "86 0.01336881797760725\n",
      "87 0.013176633045077324\n",
      "88 0.012987312860786915\n",
      "89 0.012800653465092182\n",
      "90 0.012616678141057491\n",
      "91 0.012435337528586388\n",
      "92 0.012256666086614132\n",
      "93 0.012080458924174309\n",
      "94 0.01190686970949173\n",
      "95 0.011735780164599419\n",
      "96 0.011567072942852974\n",
      "97 0.011400855146348476\n",
      "98 0.011236986145377159\n",
      "99 0.011075487360358238\n"
     ]
    }
   ],
   "source": [
    "# Training Cycle\n",
    "for epoch in range(100):\n",
    "    # 前馈\n",
    "    y_pred = model(x_data) # 计算y_head\n",
    "    loss = criterion(y_pred, y_data) # 计算Loss\n",
    "    print(epoch, loss.item()) # loss在打印时会自动调用__str__()\n",
    "\n",
    "    optimizer.zero_grad() # 梯度归零 \n",
    "\n",
    "    # 反馈\n",
    "    loss.backward() \n",
    "    # Update\n",
    "    optimizer.step() "
   ]
  },
  {
   "cell_type": "code",
   "execution_count": 35,
   "id": "938dd2e2-e907-40bb-bc1a-fa6da7ed8360",
   "metadata": {},
   "outputs": [
    {
     "name": "stdout",
     "output_type": "stream",
     "text": [
      "w= 2.0700604915618896\n",
      "b= -0.15926425158977509\n",
      "y_pred= tensor([[8.1210]])\n"
     ]
    }
   ],
   "source": [
    "# Output weight and bias\n",
    "print('w=', model.linear.weight.item())\n",
    "print('b=', model.linear.bias.item())\n",
    "\n",
    "# Test Model\n",
    "x_test = torch.Tensor([[4.0]])\n",
    "y_test = model(x_test)\n",
    "print('y_pred=', y_test.data)\n"
   ]
  },
  {
   "cell_type": "code",
   "execution_count": null,
   "id": "ba13b059-2b03-4544-b702-5e639bd00735",
   "metadata": {},
   "outputs": [],
   "source": []
  }
 ],
 "metadata": {
  "kernelspec": {
   "display_name": "Python [conda env:base] *",
   "language": "python",
   "name": "conda-base-py"
  },
  "language_info": {
   "codemirror_mode": {
    "name": "ipython",
    "version": 3
   },
   "file_extension": ".py",
   "mimetype": "text/x-python",
   "name": "python",
   "nbconvert_exporter": "python",
   "pygments_lexer": "ipython3",
   "version": "3.12.7"
  }
 },
 "nbformat": 4,
 "nbformat_minor": 5
}
