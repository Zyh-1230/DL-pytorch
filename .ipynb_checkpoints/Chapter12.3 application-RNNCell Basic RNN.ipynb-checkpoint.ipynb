{
 "cells": [
  {
   "cell_type": "code",
   "execution_count": 2,
   "id": "91d8bb8f-2d1d-43db-93a8-82a2fc7ed2ed",
   "metadata": {},
   "outputs": [],
   "source": [
    "import torch"
   ]
  },
  {
   "cell_type": "code",
   "execution_count": 4,
   "id": "90797d61-6a2f-47a7-b442-86a318481e8f",
   "metadata": {},
   "outputs": [],
   "source": [
    "input_size = 4\n",
    "hidden_size = 4\n",
    "batch_size = 1"
   ]
  },
  {
   "cell_type": "code",
   "execution_count": 6,
   "id": "992b748b-3940-4a87-b359-95626f57fd96",
   "metadata": {},
   "outputs": [],
   "source": [
    "idx2char = ['e', 'h', 'l', 'o']\n",
    "x_data = [1, 0, 2, 2, 3]\n",
    "y_data = [3, 1, 2, 3, 2]\n",
    "\n",
    "one_hot_lookup = [[1, 0, 0, 0],\n",
    "                  [0, 1, 0, 0],\n",
    "                  [0, 0, 1, 0],\n",
    "                  [0, 0, 0, 1]]\n",
    "x_one_hot = [one_hot_lookup[x] for x in x_data]\n",
    "\n",
    "inputs = torch.Tensor(x_one_hot).view(-1, batch_size, input_size)\n",
    "labels = torch.LongTensor(y_data).view(-1, 1)"
   ]
  },
  {
   "cell_type": "code",
   "execution_count": 14,
   "id": "4cf082b7-4f70-4eda-906e-cf72cac44003",
   "metadata": {},
   "outputs": [],
   "source": [
    "class Model(torch.nn.Module):\n",
    "    def __init__(self, input_size, hidden_size, batch_size):\n",
    "        super(Model, self).__init__()\n",
    "        self.batch_size = batch_size\n",
    "        self.input_size = input_size\n",
    "        self.hidden_size = hidden_size\n",
    "        self.rnncell = torch.nn.RNNCell(input_size=self.input_size, hidden_size=self.hidden_size)\n",
    "\n",
    "    def forward(self, input, hidden):\n",
    "        hidden = self.rnncell(input, hidden)\n",
    "        return hidden\n",
    "\n",
    "    def init_hidden(self): # h_0\n",
    "        return torch.zeros(self.batch_size, self.hidden_size)\n",
    "\n",
    "net = Model(input_size, hidden_size, batch_size)"
   ]
  },
  {
   "cell_type": "code",
   "execution_count": 16,
   "id": "ea8ab806-b51f-4239-bb29-746a8e8c59d1",
   "metadata": {},
   "outputs": [],
   "source": [
    "criterion = torch.nn.CrossEntropyLoss()\n",
    "\n",
    "optimizer = torch.optim.Adam(net.parameters(), lr=0.1)"
   ]
  },
  {
   "cell_type": "code",
   "execution_count": 18,
   "id": "365e46bc-aa18-4c6f-850b-a6157eb214cd",
   "metadata": {},
   "outputs": [
    {
     "name": "stdout",
     "output_type": "stream",
     "text": [
      "Predicted string:hhhhh, Epoch [1/15] loss=7.5871\n",
      "Predicted string:hhllh, Epoch [2/15] loss=6.3301\n",
      "Predicted string:ollll, Epoch [3/15] loss=5.4158\n",
      "Predicted string:ollll, Epoch [4/15] loss=4.8660\n",
      "Predicted string:ollll, Epoch [5/15] loss=4.4182\n",
      "Predicted string:ohlll, Epoch [6/15] loss=3.9583\n",
      "Predicted string:ohlll, Epoch [7/15] loss=3.5334\n",
      "Predicted string:ohlll, Epoch [8/15] loss=3.2056\n",
      "Predicted string:ohlol, Epoch [9/15] loss=2.9857\n",
      "Predicted string:ohlol, Epoch [10/15] loss=2.8394\n",
      "Predicted string:ohlol, Epoch [11/15] loss=2.7244\n",
      "Predicted string:ohlol, Epoch [12/15] loss=2.6204\n",
      "Predicted string:ohlol, Epoch [13/15] loss=2.5251\n",
      "Predicted string:ohlol, Epoch [14/15] loss=2.4441\n",
      "Predicted string:ohlol, Epoch [15/15] loss=2.3812\n"
     ]
    }
   ],
   "source": [
    "for epoch in range(15):\n",
    "    loss = 0\n",
    "    optimizer.zero_grad()\n",
    "    hidden = net.init_hidden() # h_0\n",
    "    print('Predicted string:', end='')\n",
    "    for input, label in zip(inputs, labels): \n",
    "        # inputs' dimension=seqlen x batchsize x Inputsize  \n",
    "        # input's dimension=batchsize x Inputsize\n",
    "        # labels' dimension=seqSize x 1\n",
    "        # label's dimension=1\n",
    "        hidden = net(input, hidden)\n",
    "        loss += criterion(hidden, label) # 不要用item\n",
    "        _, idx = hidden.max(dim=1)\n",
    "        print(idx2char[idx.item()], end='')\n",
    "    loss.backward()\n",
    "    optimizer.step()\n",
    "    print(', Epoch [%d/15] loss=%.4f' % (epoch+1, loss.item()))"
   ]
  },
  {
   "cell_type": "code",
   "execution_count": null,
   "id": "5db381f9-5f37-45ba-bfc3-804b5e7930ff",
   "metadata": {},
   "outputs": [],
   "source": []
  }
 ],
 "metadata": {
  "kernelspec": {
   "display_name": "Python [conda env:base] *",
   "language": "python",
   "name": "conda-base-py"
  },
  "language_info": {
   "codemirror_mode": {
    "name": "ipython",
    "version": 3
   },
   "file_extension": ".py",
   "mimetype": "text/x-python",
   "name": "python",
   "nbconvert_exporter": "python",
   "pygments_lexer": "ipython3",
   "version": "3.12.7"
  }
 },
 "nbformat": 4,
 "nbformat_minor": 5
}
