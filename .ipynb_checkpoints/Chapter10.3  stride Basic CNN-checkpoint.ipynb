{
 "cells": [
  {
   "cell_type": "code",
   "execution_count": 1,
   "id": "9df72cfb-cb1a-46bc-8373-2a7566a6d0cf",
   "metadata": {},
   "outputs": [],
   "source": [
    "import torch"
   ]
  },
  {
   "cell_type": "code",
   "execution_count": 3,
   "id": "a0843473-5e19-40f8-af43-0d304a248d45",
   "metadata": {},
   "outputs": [],
   "source": [
    "input = [3, 4, 6, 5, 7,\n",
    "         2, 4, 6, 8, 2, \n",
    "         1, 6, 7, 8, 4, \n",
    "         9, 7, 4, 6, 2,\n",
    "         3, 7, 5, 4, 1]\n",
    "\n",
    "input = torch.Tensor(input).view(1, 1, 5, 5) # B C W H"
   ]
  },
  {
   "cell_type": "code",
   "execution_count": 9,
   "id": "e34faff1-31fb-4235-ae6e-ccc2aeb08aa9",
   "metadata": {},
   "outputs": [],
   "source": [
    "conv_layer = torch.nn.Conv2d(1, 1, kernel_size=3, stride=2, bias=False) # stride = 2\n",
    "\n",
    "kernel = torch.Tensor([1, 2, 3, 4, 5, 6, 7, 8, 9]).view(1, 1, 3, 3)\n",
    "conv_layer.weight.data = kernel.data\n",
    "\n",
    "output = conv_layer(input)"
   ]
  },
  {
   "cell_type": "code",
   "execution_count": 11,
   "id": "3b51e625-af63-4119-aa32-0b1173850754",
   "metadata": {},
   "outputs": [
    {
     "name": "stdout",
     "output_type": "stream",
     "text": [
      "tensor([[[[211., 262.],\n",
      "          [251., 169.]]]], grad_fn=<ConvolutionBackward0>)\n"
     ]
    }
   ],
   "source": [
    "print(output)"
   ]
  },
  {
   "cell_type": "code",
   "execution_count": null,
   "id": "336e69de-4950-43e6-9f3a-cee76ebe3e37",
   "metadata": {},
   "outputs": [],
   "source": []
  }
 ],
 "metadata": {
  "kernelspec": {
   "display_name": "Python [conda env:base] *",
   "language": "python",
   "name": "conda-base-py"
  },
  "language_info": {
   "codemirror_mode": {
    "name": "ipython",
    "version": 3
   },
   "file_extension": ".py",
   "mimetype": "text/x-python",
   "name": "python",
   "nbconvert_exporter": "python",
   "pygments_lexer": "ipython3",
   "version": "3.12.7"
  }
 },
 "nbformat": 4,
 "nbformat_minor": 5
}
