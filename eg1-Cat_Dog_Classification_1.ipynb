{
 "cells": [
  {
   "cell_type": "code",
   "execution_count": 131,
   "id": "2f4de135-3bc0-4edb-ad1c-493e45c07fb9",
   "metadata": {},
   "outputs": [],
   "source": [
    "import torch\n",
    "from torch import nn\n",
    "from torch.utils.data import DataLoader\n",
    "from torchvision import datasets\n",
    "from torchvision.transforms import ToTensor, Lambda, Compose\n",
    "import matplotlib.pyplot as plt\n",
    "import torchvision.transforms as transforms\n",
    "import numpy as np"
   ]
  },
  {
   "cell_type": "code",
   "execution_count": 133,
   "id": "916fecce-666f-43db-b878-60dd0a70d932",
   "metadata": {},
   "outputs": [
    {
     "name": "stdout",
     "output_type": "stream",
     "text": [
      "['cat', 'dog']\n",
      "Dataset ImageFolder\n",
      "    Number of datapoints: 480\n",
      "    Root location: cat-dog/cat-dog-train\n",
      "    StandardTransform\n",
      "Transform: Compose(\n",
      "               RandomHorizontalFlip(p=0.5)\n",
      "               RandomRotation(degrees=[-15.0, 15.0], interpolation=nearest, expand=False, fill=0)\n",
      "               Resize(size=[224, 224], interpolation=bilinear, max_size=None, antialias=True)\n",
      "               ToTensor()\n",
      "               Normalize(mean=[0.485, 0.456, 0.406], std=[0.229, 0.224, 0.225])\n",
      "           )\n"
     ]
    }
   ],
   "source": [
    "train_datadir = 'cat-dog/cat-dog-train'\n",
    "test_datadir = 'cat-dog/cat-dog-val'\n",
    "\n",
    "train_transforms = transforms.Compose([\n",
    "    transforms.RandomHorizontalFlip(), # 随机水平翻转\n",
    "    transforms.RandomRotation(15), # 随机旋转(+/- 15度)\n",
    "    transforms.Resize([224, 224]), # 调整图像大小\n",
    "    transforms.ToTensor(), # 转为张量\n",
    "    transforms.Normalize( # 标准化(ImageNet参数)\n",
    "        mean=[0.485, 0.456, 0.406],\n",
    "        std = [0.229, 0.224, 0.225])\n",
    "])\n",
    "\n",
    "# 测试数据集预处理\n",
    "test_transforms = transforms.Compose([\n",
    "    transforms.Resize([224, 224]),\n",
    "    transforms.ToTensor(),\n",
    "    transforms.Normalize(\n",
    "        mean = [0.485, 0.456, 0.406],\n",
    "        std = [0.229, 0.224, 0.225])\n",
    "])\n",
    "\n",
    "# 加载数据集\n",
    "train_data = datasets.ImageFolder(train_datadir, transform=train_transforms)\n",
    "test_data = datasets.ImageFolder(test_datadir, transform=test_transforms)\n",
    "\n",
    "# 创建数据加载器\n",
    "train_loader = torch.utils.data.DataLoader(train_data,\n",
    "                                      batch_size=4,\n",
    "                                      shuffle=True,\n",
    "                                      num_workers=1)\n",
    "test_loader = torch.utils.data.DataLoader(test_data,\n",
    "                                          batch_size=4,\n",
    "                                          shuffle=True,\n",
    "                                          num_workers=1)\n",
    "\n",
    "# 打印类别信息\n",
    "print(train_loader.dataset.classes)\n",
    "print(train_loader.dataset)"
   ]
  },
  {
   "cell_type": "code",
   "execution_count": 135,
   "id": "1baab1e0-837d-4db5-aabd-5fa00acb5796",
   "metadata": {},
   "outputs": [
    {
     "name": "stdout",
     "output_type": "stream",
     "text": [
      "Shape of X [N, C, H, W]: torch.Size([4, 3, 224, 224])\n",
      "Shape of y: torch.Size([4]) tensor([1, 1, 1, 1])\n"
     ]
    }
   ],
   "source": [
    "for X, y in test_loader:\n",
    "    print(\"Shape of X [N, C, H, W]:\", X.shape)\n",
    "    print(\"Shape of y:\", y.shape, y.type)\n",
    "    break"
   ]
  },
  {
   "cell_type": "code",
   "execution_count": 136,
   "id": "19329651-cf45-4ba8-b86c-9c0038c060a8",
   "metadata": {},
   "outputs": [
    {
     "name": "stdout",
     "output_type": "stream",
     "text": [
      "Using cpu device\n",
      "NeutralNetwork(\n",
      "  (flatten): Flatten(start_dim=1, end_dim=-1)\n",
      "  (Linear_relu_stack): Sequential(\n",
      "    (0): Linear(in_features=150528, out_features=512, bias=True)\n",
      "    (1): ReLU()\n",
      "    (2): Dropout(p=0.5, inplace=False)\n",
      "    (3): Linear(in_features=512, out_features=256, bias=True)\n",
      "    (4): ReLU()\n",
      "    (5): Dropout(p=0.5, inplace=False)\n",
      "    (6): Linear(in_features=256, out_features=2, bias=True)\n",
      "  )\n",
      ")\n"
     ]
    }
   ],
   "source": [
    "device = \"cuda\" if torch.cuda.is_available() else \"cpu\"\n",
    "print(\"Using {} device\".format(device))\n",
    "\n",
    "# 定义模型\n",
    "class NeutralNetwork(nn.Module):\n",
    "    def __init__(self):\n",
    "        super(NeutralNetwork, self).__init__()\n",
    "        self.flatten = nn.Flatten()\n",
    "        self.Linear_relu_stack = nn.Sequential(\n",
    "            nn.Linear(3*224*224, 512),\n",
    "            nn.ReLU(),\n",
    "            nn.Dropout(0.5),\n",
    "            nn.Linear(512, 256),\n",
    "            nn.ReLU(),\n",
    "            nn.Dropout(0.5),\n",
    "            nn.Linear(256, 2)\n",
    "        )\n",
    "\n",
    "    def forward(self, x):\n",
    "        x = self.flatten(x) # 展平 图像\n",
    "        logits = self.Linear_relu_stack(x)\n",
    "        return logits\n",
    "\n",
    "model = NeutralNetwork().to(device) # 自动选择CPU/GPU\n",
    "print(model)"
   ]
  },
  {
   "cell_type": "code",
   "execution_count": 137,
   "id": "4e977e9a-c522-4eca-b929-63e366ea8017",
   "metadata": {},
   "outputs": [],
   "source": [
    "criterion = nn.CrossEntropyLoss()\n",
    "\n",
    "optimizer = torch.optim.Adam(model.parameters(), lr=1e-3)"
   ]
  },
  {
   "cell_type": "code",
   "execution_count": 141,
   "id": "fc9c3325-da5b-48a3-8ce8-05c169e18d94",
   "metadata": {},
   "outputs": [],
   "source": [
    "def train(dataloader, model, criterion, optimizer):\n",
    "    size = len(dataloader.dataset)\n",
    "    model.train()\n",
    "    for batch_idx, (X, y) in enumerate(dataloader):\n",
    "        X, y = X.to(device), y.to(device)\n",
    "\n",
    "        pred = model(X)\n",
    "        loss = criterion(pred, y)\n",
    "\n",
    "        optimizer.zero_grad()\n",
    "        loss.backward()\n",
    "        optimizer.step()\n",
    "\n",
    "        if batch_idx % 100 == 0:\n",
    "            loss, current = loss.item(), batch_idx*len(X)\n",
    "            print(f\"loss: {loss:>7f} [{current:>5d}/{size:>5d}]\")\n"
   ]
  },
  {
   "cell_type": "code",
   "execution_count": 143,
   "id": "30483de6-343e-4eec-9254-43b295752e56",
   "metadata": {},
   "outputs": [],
   "source": [
    "def test(dataloader, model, criterion):\n",
    "    size = len(dataloader.dataset)\n",
    "    num_batches = len(dataloader)\n",
    "    model.eval()\n",
    "    test_loss, correct = 0, 0\n",
    "    with torch.no_grad():\n",
    "        for X, y in dataloader:\n",
    "            X, y = X.to(device), y.to(device)\n",
    "            pred = model(X)\n",
    "            test_loss += criterion(pred, y).item()\n",
    "            correct += (pred.argmax(1) == y).type(torch.float).sum().item()\n",
    "    test_loss /= num_batches # 计算平均损失和准确率\n",
    "    correct /= size\n",
    "    print(f\"Test Error: \\n Accuracy: {(100*correct):>0.1f}%, Avg loss: {test_loss:>8f} \\n\")"
   ]
  },
  {
   "cell_type": "code",
   "execution_count": 145,
   "id": "37d75488-8a4d-4243-b4a1-a788b5196414",
   "metadata": {},
   "outputs": [
    {
     "name": "stdout",
     "output_type": "stream",
     "text": [
      "Epoch 1\n",
      "-----------------------------------\n",
      "loss: 0.604318 [    0/  480]\n",
      "loss: 139.880951 [  400/  480]\n",
      "Test Error: \n",
      " Accuracy: 59.2%, Avg loss: 36.504234 \n",
      "\n",
      "Epoch 2\n",
      "-----------------------------------\n",
      "loss: 3.189614 [    0/  480]\n",
      "loss: 31.315996 [  400/  480]\n",
      "Test Error: \n",
      " Accuracy: 60.8%, Avg loss: 35.214924 \n",
      "\n",
      "Epoch 3\n",
      "-----------------------------------\n",
      "loss: 16.931362 [    0/  480]\n",
      "loss: 5.122310 [  400/  480]\n",
      "Test Error: \n",
      " Accuracy: 74.2%, Avg loss: 5.363300 \n",
      "\n",
      "Epoch 4\n",
      "-----------------------------------\n",
      "loss: 0.000028 [    0/  480]\n",
      "loss: 9.088091 [  400/  480]\n",
      "Test Error: \n",
      " Accuracy: 79.2%, Avg loss: 2.232654 \n",
      "\n",
      "Epoch 5\n",
      "-----------------------------------\n",
      "loss: 0.419220 [    0/  480]\n",
      "loss: 1.802551 [  400/  480]\n",
      "Test Error: \n",
      " Accuracy: 69.2%, Avg loss: 3.148292 \n",
      "\n",
      "Epoch 6\n",
      "-----------------------------------\n",
      "loss: 0.760963 [    0/  480]\n",
      "loss: 1.797799 [  400/  480]\n",
      "Test Error: \n",
      " Accuracy: 77.5%, Avg loss: 1.387486 \n",
      "\n",
      "Epoch 7\n",
      "-----------------------------------\n",
      "loss: 0.967791 [    0/  480]\n",
      "loss: 0.217432 [  400/  480]\n",
      "Test Error: \n",
      " Accuracy: 79.2%, Avg loss: 0.846004 \n",
      "\n",
      "Epoch 8\n",
      "-----------------------------------\n",
      "loss: 2.892974 [    0/  480]\n",
      "loss: 0.168558 [  400/  480]\n",
      "Test Error: \n",
      " Accuracy: 71.7%, Avg loss: 1.083506 \n",
      "\n",
      "Epoch 9\n",
      "-----------------------------------\n",
      "loss: 2.145773 [    0/  480]\n",
      "loss: 0.277961 [  400/  480]\n",
      "Test Error: \n",
      " Accuracy: 73.3%, Avg loss: 0.662379 \n",
      "\n",
      "Epoch 10\n",
      "-----------------------------------\n",
      "loss: 0.180063 [    0/  480]\n",
      "loss: 1.515502 [  400/  480]\n",
      "Test Error: \n",
      " Accuracy: 76.7%, Avg loss: 0.803572 \n",
      "\n",
      "Done!\n"
     ]
    }
   ],
   "source": [
    "epochs = 10\n",
    "for t in range(epochs):\n",
    "    print(f\"Epoch {t+1}\\n-----------------------------------\")\n",
    "    train(train_loader, model, criterion, optimizer)\n",
    "    test(test_loader, model, criterion)\n",
    "\n",
    "print(\"Done!\")"
   ]
  },
  {
   "cell_type": "code",
   "execution_count": null,
   "id": "11620797-a5dd-417e-9f76-698e095df9c4",
   "metadata": {},
   "outputs": [],
   "source": []
  }
 ],
 "metadata": {
  "kernelspec": {
   "display_name": "Python [conda env:base] *",
   "language": "python",
   "name": "conda-base-py"
  },
  "language_info": {
   "codemirror_mode": {
    "name": "ipython",
    "version": 3
   },
   "file_extension": ".py",
   "mimetype": "text/x-python",
   "name": "python",
   "nbconvert_exporter": "python",
   "pygments_lexer": "ipython3",
   "version": "3.12.7"
  }
 },
 "nbformat": 4,
 "nbformat_minor": 5
}
