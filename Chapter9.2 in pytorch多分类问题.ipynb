{
 "cells": [
  {
   "cell_type": "code",
   "execution_count": 1,
   "id": "c219d6aa-8550-4ab6-99f1-f736c1df36af",
   "metadata": {},
   "outputs": [],
   "source": [
    "import torch"
   ]
  },
  {
   "cell_type": "code",
   "execution_count": 21,
   "id": "b3361674-d1c5-40d6-a6f8-abc17bd64748",
   "metadata": {},
   "outputs": [],
   "source": [
    "y = torch.LongTensor([0]) # LongTensor\n",
    "z = torch.Tensor([[0.2, 0.1, -0.1]]) # 预测出最大值属于第0类"
   ]
  },
  {
   "cell_type": "code",
   "execution_count": 23,
   "id": "d1d02d08-4400-46a6-9fb0-04fafcdd475c",
   "metadata": {},
   "outputs": [],
   "source": [
    "criterion = torch.nn.CrossEntropyLoss() # 包含Softmax和Loss的计算"
   ]
  },
  {
   "cell_type": "code",
   "execution_count": 25,
   "id": "1e77c71a-9676-4edd-a41a-c72d96616351",
   "metadata": {},
   "outputs": [
    {
     "name": "stdout",
     "output_type": "stream",
     "text": [
      "tensor(0.9729)\n"
     ]
    }
   ],
   "source": [
    "loss = criterion(z, y)\n",
    "print(loss)"
   ]
  },
  {
   "cell_type": "code",
   "execution_count": null,
   "id": "9bd432eb-8a84-423b-bb6e-6dd8915e75b1",
   "metadata": {},
   "outputs": [],
   "source": []
  }
 ],
 "metadata": {
  "kernelspec": {
   "display_name": "Python [conda env:base] *",
   "language": "python",
   "name": "conda-base-py"
  },
  "language_info": {
   "codemirror_mode": {
    "name": "ipython",
    "version": 3
   },
   "file_extension": ".py",
   "mimetype": "text/x-python",
   "name": "python",
   "nbconvert_exporter": "python",
   "pygments_lexer": "ipython3",
   "version": "3.12.7"
  }
 },
 "nbformat": 4,
 "nbformat_minor": 5
}
