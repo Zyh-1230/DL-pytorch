{
 "cells": [
  {
   "cell_type": "code",
   "execution_count": 1,
   "id": "240ddac7-6e76-4f1b-a9b6-79958f167d54",
   "metadata": {},
   "outputs": [],
   "source": [
    "import torch"
   ]
  },
  {
   "cell_type": "code",
   "execution_count": 5,
   "id": "5d48dbc2-b77d-4865-8983-f605990c09e3",
   "metadata": {},
   "outputs": [],
   "source": [
    "num_class = 4\n",
    "input_size = 4\n",
    "hidden_size = 8\n",
    "embedding_size = 10\n",
    "num_layers = 2\n",
    "batch_size =1\n",
    "seq_len = 5"
   ]
  },
  {
   "cell_type": "code",
   "execution_count": 9,
   "id": "94c0892e-1cb4-4e6e-bfee-31e6fde2e4ab",
   "metadata": {},
   "outputs": [],
   "source": [
    "idx2char = ['e', 'h', 'l', 'o']\n",
    "x_data = [[1, 0, 2, 2, 3]]\n",
    "y_data = [3, 1, 2, 3, 2]\n",
    "\n",
    "inputs = torch.LongTensor(x_data)\n",
    "labels = torch.LongTensor(y_data)"
   ]
  },
  {
   "cell_type": "code",
   "execution_count": 19,
   "id": "5fc42d63-f97e-4221-bf46-32fe359e8261",
   "metadata": {},
   "outputs": [],
   "source": [
    "class Model(torch.nn.Module):\n",
    "    def __init__(self):\n",
    "        super(Model, self).__init__()\n",
    "        self.emb = torch.nn.Embedding(input_size, embedding_size)\n",
    "        self.rnn = torch.nn.RNN(input_size=embedding_size, hidden_size=hidden_size, num_layers=num_layers, batch_first=True)\n",
    "        self.fc = torch.nn.Linear(hidden_size, num_class)\n",
    "\n",
    "    def forward(self, x):\n",
    "        hidden = torch.zeros(num_layers, x.size(0), hidden_size)\n",
    "        x = self.emb(x)\n",
    "        x, _ = self.rnn(x, hidden)\n",
    "        x = self.fc(x)\n",
    "        return x.view(-1, num_class)\n",
    "\n",
    "net = Model()"
   ]
  },
  {
   "cell_type": "code",
   "execution_count": 21,
   "id": "b7f83b7d-acec-49f2-b372-3d9ecb7d9d1c",
   "metadata": {},
   "outputs": [],
   "source": [
    "criterion = torch.nn.CrossEntropyLoss()\n",
    "optimizer = torch.optim.Adam(net.parameters(), lr=0.05)"
   ]
  },
  {
   "cell_type": "code",
   "execution_count": 23,
   "id": "71262927-384c-46d5-80e7-65fbdc1f0580",
   "metadata": {},
   "outputs": [
    {
     "name": "stdout",
     "output_type": "stream",
     "text": [
      "Predictd: hhhhh, Epoch [1/15] loss = 1.515\n",
      "Predictd: hhlll, Epoch [2/15] loss = 1.181\n",
      "Predictd: ollll, Epoch [3/15] loss = 0.991\n",
      "Predictd: ollll, Epoch [4/15] loss = 0.817\n",
      "Predictd: ohlol, Epoch [5/15] loss = 0.615\n",
      "Predictd: ohlol, Epoch [6/15] loss = 0.405\n",
      "Predictd: ohlol, Epoch [7/15] loss = 0.248\n",
      "Predictd: ohlol, Epoch [8/15] loss = 0.158\n",
      "Predictd: ohlol, Epoch [9/15] loss = 0.103\n",
      "Predictd: ohlol, Epoch [10/15] loss = 0.068\n",
      "Predictd: ohlol, Epoch [11/15] loss = 0.047\n",
      "Predictd: ohlol, Epoch [12/15] loss = 0.033\n",
      "Predictd: ohlol, Epoch [13/15] loss = 0.024\n",
      "Predictd: ohlol, Epoch [14/15] loss = 0.018\n",
      "Predictd: ohlol, Epoch [15/15] loss = 0.014\n"
     ]
    }
   ],
   "source": [
    "for epoch in range(15):\n",
    "    optimizer.zero_grad()\n",
    "    outputs = net(inputs)\n",
    "    loss = criterion(outputs, labels)\n",
    "    loss.backward()\n",
    "    optimizer.step()\n",
    "\n",
    "    _, idx = outputs.max(dim=1)\n",
    "    idx = idx.data.numpy()\n",
    "    print('Predictd:', ''.join([idx2char[x] for x in idx]), end='')\n",
    "    print(', Epoch [%d/15] loss = %.3f' % (epoch + 1, loss.item()))"
   ]
  },
  {
   "cell_type": "code",
   "execution_count": null,
   "id": "da1aca34-15cc-472e-a75a-254b75c2e92d",
   "metadata": {},
   "outputs": [],
   "source": []
  }
 ],
 "metadata": {
  "kernelspec": {
   "display_name": "Python [conda env:base] *",
   "language": "python",
   "name": "conda-base-py"
  },
  "language_info": {
   "codemirror_mode": {
    "name": "ipython",
    "version": 3
   },
   "file_extension": ".py",
   "mimetype": "text/x-python",
   "name": "python",
   "nbconvert_exporter": "python",
   "pygments_lexer": "ipython3",
   "version": "3.12.7"
  }
 },
 "nbformat": 4,
 "nbformat_minor": 5
}
