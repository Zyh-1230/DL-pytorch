{
 "cells": [
  {
   "cell_type": "code",
   "execution_count": 1,
   "id": "1d4400a7-2b10-4df8-b735-4eef10a6101e",
   "metadata": {},
   "outputs": [],
   "source": [
    "import torch"
   ]
  },
  {
   "cell_type": "code",
   "execution_count": 5,
   "id": "76444eb4-e372-476f-bf6d-bbb747dde3d8",
   "metadata": {},
   "outputs": [],
   "source": [
    "input = [3, 4, 6, 5,\n",
    "         2, 4, 6, 8, \n",
    "         1, 6, 7, 8, \n",
    "         9, 7, 4, 6]\n",
    "\n",
    "input = torch.Tensor(input).view(1, 1, 4, 4)"
   ]
  },
  {
   "cell_type": "code",
   "execution_count": 11,
   "id": "ccc35165-bfe7-418d-8e2d-3165d6d8f88d",
   "metadata": {},
   "outputs": [],
   "source": [
    "maxpooling_layer = torch.nn.MaxPool2d(kernel_size=2) # 默认stride=kernel_size=2"
   ]
  },
  {
   "cell_type": "code",
   "execution_count": 13,
   "id": "c7e1e271-9ff6-4914-a4ae-0838ab34a7cb",
   "metadata": {},
   "outputs": [
    {
     "name": "stdout",
     "output_type": "stream",
     "text": [
      "tensor([[[[4., 8.],\n",
      "          [9., 8.]]]])\n"
     ]
    }
   ],
   "source": [
    "output = maxpooling_layer(input)\n",
    "print(output)"
   ]
  },
  {
   "cell_type": "code",
   "execution_count": null,
   "id": "5477a45a-a7ba-45da-ad9b-52218fa595ad",
   "metadata": {},
   "outputs": [],
   "source": []
  },
  {
   "cell_type": "code",
   "execution_count": null,
   "id": "ed193881-3c28-492e-aa3f-187b74675193",
   "metadata": {},
   "outputs": [],
   "source": []
  }
 ],
 "metadata": {
  "kernelspec": {
   "display_name": "Python [conda env:base] *",
   "language": "python",
   "name": "conda-base-py"
  },
  "language_info": {
   "codemirror_mode": {
    "name": "ipython",
    "version": 3
   },
   "file_extension": ".py",
   "mimetype": "text/x-python",
   "name": "python",
   "nbconvert_exporter": "python",
   "pygments_lexer": "ipython3",
   "version": "3.12.7"
  }
 },
 "nbformat": 4,
 "nbformat_minor": 5
}
