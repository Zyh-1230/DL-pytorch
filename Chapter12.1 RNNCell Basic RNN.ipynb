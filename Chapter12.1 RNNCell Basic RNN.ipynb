{
 "cells": [
  {
   "cell_type": "code",
   "execution_count": 1,
   "id": "5073b7cb-bd5f-405a-8baf-e8c1a2d4883d",
   "metadata": {},
   "outputs": [],
   "source": [
    "import torch"
   ]
  },
  {
   "cell_type": "code",
   "execution_count": 3,
   "id": "8468d10c-582d-49aa-a1a7-dc53e492de31",
   "metadata": {},
   "outputs": [],
   "source": [
    "batch_size = 4\n",
    "seq_len = 3\n",
    "input_size = 4\n",
    "hidden_size = 2"
   ]
  },
  {
   "cell_type": "code",
   "execution_count": 7,
   "id": "8465d002-e18e-42cf-abeb-b1f4f4ebb3b3",
   "metadata": {},
   "outputs": [],
   "source": [
    "cell = torch.nn.RNNCell(input_size=input_size, hidden_size=hidden_size)\n",
    "# 调用时: hidden = cell(input, hidden)\n",
    "# input of shape(batch, input_size)\n",
    "# hidden of shape(batch, hidden_size)\n",
    "# dataset.shape(seq_len, batch_size, input_size)"
   ]
  },
  {
   "cell_type": "code",
   "execution_count": 9,
   "id": "5aa8dc6f-8480-42cf-bef5-e0d1194bf00c",
   "metadata": {},
   "outputs": [],
   "source": [
    "dataset = torch.randn(seq_len, batch_size, input_size) # 生成一个服从标准正态分布的张量\n",
    "hidden = torch.zeros(batch_size, hidden_size) # 生成一个指定大小的零张量"
   ]
  },
  {
   "cell_type": "code",
   "execution_count": 11,
   "id": "050c2fdf-357a-459c-b090-6d01faad407b",
   "metadata": {},
   "outputs": [
    {
     "name": "stdout",
     "output_type": "stream",
     "text": [
      "==================== 0 ====================\n",
      "Input size: torch.Size([4, 4])\n",
      "outputs size: torch.Size([4, 2])\n",
      "tensor([[ 0.8168, -0.6119],\n",
      "        [-0.4277,  0.8107],\n",
      "        [ 0.4269, -0.7008],\n",
      "        [ 0.1135, -0.4818]], grad_fn=<TanhBackward0>)\n",
      "==================== 1 ====================\n",
      "Input size: torch.Size([4, 4])\n",
      "outputs size: torch.Size([4, 2])\n",
      "tensor([[-0.2399, -0.0936],\n",
      "        [-0.9617,  0.4981],\n",
      "        [-0.8433,  0.8990],\n",
      "        [-0.5470,  0.8256]], grad_fn=<TanhBackward0>)\n",
      "==================== 2 ====================\n",
      "Input size: torch.Size([4, 4])\n",
      "outputs size: torch.Size([4, 2])\n",
      "tensor([[-0.2637,  0.5738],\n",
      "        [ 0.5814, -0.6486],\n",
      "        [-0.7880,  0.0061],\n",
      "        [-0.8451,  0.6650]], grad_fn=<TanhBackward0>)\n"
     ]
    }
   ],
   "source": [
    "for idx, input in enumerate(dataset):\n",
    "    print('='*20, idx, '='*20)\n",
    "    print('Input size:', input.shape)\n",
    "\n",
    "    hidden = cell(input, hidden)\n",
    "\n",
    "    print('outputs size:', hidden.shape)\n",
    "    print(hidden)"
   ]
  },
  {
   "cell_type": "code",
   "execution_count": null,
   "id": "5a66075f-88ca-4ae4-8a21-14e9859b529b",
   "metadata": {},
   "outputs": [],
   "source": []
  }
 ],
 "metadata": {
  "kernelspec": {
   "display_name": "Python [conda env:base] *",
   "language": "python",
   "name": "conda-base-py"
  },
  "language_info": {
   "codemirror_mode": {
    "name": "ipython",
    "version": 3
   },
   "file_extension": ".py",
   "mimetype": "text/x-python",
   "name": "python",
   "nbconvert_exporter": "python",
   "pygments_lexer": "ipython3",
   "version": "3.12.7"
  }
 },
 "nbformat": 4,
 "nbformat_minor": 5
}
