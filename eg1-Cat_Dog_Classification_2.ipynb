{
 "cells": [
  {
   "cell_type": "code",
   "execution_count": 47,
   "id": "3a058b4e-90af-4813-99b7-4e870f9d922b",
   "metadata": {},
   "outputs": [],
   "source": [
    "import torch\n",
    "from torch import nn\n",
    "from torch.utils.data import DataLoader\n",
    "from torchvision import datasets\n",
    "from torchvision.transforms import ToTensor, Lambda, Compose\n",
    "import matplotlib.pyplot as plt\n",
    "import torchvision.transforms as transforms\n",
    "import numpy as np"
   ]
  },
  {
   "cell_type": "code",
   "execution_count": 49,
   "id": "da8ab7de-4786-4306-88e9-fe8188d8b1c7",
   "metadata": {},
   "outputs": [],
   "source": [
    "train_datadir = \"cat-dog/cat-dog-train\"\n",
    "test_datadir = \"cat-dog/cat-dog-val\"\n",
    "\n",
    "train_transforms = transforms.Compose([\n",
    "    transforms.Resize([224, 224]),\n",
    "    transforms.RandomRotation(degrees=(-10, 10)), # 随机旋转\n",
    "    transforms.RandomHorizontalFlip(p=0.5), # 随机水平翻转\n",
    "    transforms.RandomVerticalFlip(p=0.5), # 随机垂直翻转\n",
    "    transforms.RandomPerspective(distortion_scale=0.6, p=1.0), # 随机视角\n",
    "    transforms.GaussianBlur(kernel_size=(5, 9), sigma=(0.1, 5)), # 随机选择的高斯模糊模糊图像\n",
    "    transforms.ToTensor(), # 将PIL Image或numpy.ndarray转换为tensor 并归一化到[0, 1]之间\n",
    "    transforms.Normalize( # 标准化处理-->转换为标准正态分布(高斯分布) 使模型更容易收敛\n",
    "        mean=[0.485, 0.456, 0.406],\n",
    "        std=[0.229, 0.224, 0.225])\n",
    "])\n",
    "\n",
    "test_transforms = transforms.Compose([\n",
    "    transforms.Resize([224, 224]),\n",
    "    transforms.ToTensor(),\n",
    "    transforms.Normalize(\n",
    "        mean=[0.485, 0.456, 0.406],\n",
    "        std=[0.229, 0.224, 0.225])\n",
    "])\n",
    "\n",
    "train_data = datasets.ImageFolder(train_datadir, transform=train_transforms)\n",
    "test_data = datasets.ImageFolder(test_datadir, transform=test_transforms)\n",
    "\n",
    "train_loader = torch.utils.data.DataLoader(train_data, \n",
    "                                           batch_size=4, \n",
    "                                           shuffle=True, \n",
    "                                           num_workers=1)\n",
    "\n",
    "test_loader = torch.utils.data.DataLoader(test_data,\n",
    "                                          batch_size=4, \n",
    "                                          shuffle=True,\n",
    "                                          num_workers=1)"
   ]
  },
  {
   "cell_type": "code",
   "execution_count": 51,
   "id": "edd742ec-5bbe-4a5d-aad2-aa2dfa7a799a",
   "metadata": {},
   "outputs": [
    {
     "name": "stdout",
     "output_type": "stream",
     "text": [
      "Shape of X [N, C, H, W]: torch.Size([4, 3, 224, 224])\n",
      "Shape of y: torch.Size([4]) torch.int64\n"
     ]
    }
   ],
   "source": [
    "for X, y in test_loader:\n",
    "    print(\"Shape of X [N, C, H, W]:\", X.shape)\n",
    "    print(\"Shape of y:\", y.shape, y.dtype)\n",
    "    break"
   ]
  },
  {
   "cell_type": "code",
   "execution_count": 52,
   "id": "831c0d36-6cd0-44f4-9bb0-c83d98982f1d",
   "metadata": {},
   "outputs": [
    {
     "name": "stdout",
     "output_type": "stream",
     "text": [
      "Using cpu device\n"
     ]
    }
   ],
   "source": [
    "device = \"cuda\" if torch.cuda.is_available() else \"cpu\"\n",
    "print(\"Using {} device\".format(device))"
   ]
  },
  {
   "cell_type": "code",
   "execution_count": 63,
   "id": "0cafbea4-b265-400b-be70-5b7b171d9d2a",
   "metadata": {},
   "outputs": [
    {
     "name": "stdout",
     "output_type": "stream",
     "text": [
      "NeutralNetwork(\n",
      "  (flatten): Flatten(start_dim=1, end_dim=-1)\n",
      "  (Linear_relu_stack): Sequential(\n",
      "    (0): Linear(in_features=150528, out_features=512, bias=True)\n",
      "    (1): ReLU()\n",
      "    (2): Dropout(p=0.5, inplace=False)\n",
      "    (3): Linear(in_features=512, out_features=256, bias=True)\n",
      "    (4): ReLU()\n",
      "    (5): Dropout(p=0.5, inplace=False)\n",
      "    (6): Linear(in_features=256, out_features=2, bias=True)\n",
      "  )\n",
      ")\n"
     ]
    }
   ],
   "source": [
    "class NeutralNetwork(nn.Module):\n",
    "    def __init__(self):\n",
    "        super(NeutralNetwork, self).__init__()\n",
    "        self.flatten = nn.Flatten()\n",
    "        self.Linear_relu_stack = nn.Sequential(\n",
    "            nn.Linear(3*224*224, 512),\n",
    "            nn.ReLU(),\n",
    "            nn.Dropout(0.5),\n",
    "            nn.Linear(512, 256),\n",
    "            nn.ReLU(),\n",
    "            nn.Dropout(0.5),\n",
    "            nn.Linear(256, 2)\n",
    "        )\n",
    "\n",
    "    def forward(self, x):\n",
    "        x = self.flatten(x)\n",
    "        logits = self.Linear_relu_stack(x)\n",
    "        return logits\n",
    "\n",
    "model = NeutralNetwork().to(device)\n",
    "print(model)"
   ]
  },
  {
   "cell_type": "code",
   "execution_count": 65,
   "id": "9e7abefd-9085-46d0-84b2-1ee1870fd862",
   "metadata": {},
   "outputs": [],
   "source": [
    "criterion = nn.CrossEntropyLoss()\n",
    "\n",
    "optimizer = torch.optim.Adam(model.parameters(), lr=1e-4)"
   ]
  },
  {
   "cell_type": "code",
   "execution_count": 67,
   "id": "3d93b942-e894-4145-b964-01763c8883ec",
   "metadata": {},
   "outputs": [],
   "source": [
    "def train(dataloader, model, criterion, optimizer):\n",
    "    size = len(dataloader.dataset)\n",
    "    model.train()\n",
    "    for batch_idx, (X, y) in enumerate(dataloader):\n",
    "        X, y = X.to(device), y.to(device)\n",
    "\n",
    "        pred = model(X)\n",
    "        loss = criterion(pred, y)\n",
    "\n",
    "        optimizer.zero_grad()\n",
    "        loss.backward()\n",
    "        optimizer.step()\n",
    "\n",
    "        if batch_idx % 100 == 0:\n",
    "            loss, current = loss.item(), batch_idx*len(X)\n",
    "            print(f\"loss: {loss:>7f} [{current:>5d}/{size:>5d}]\") # >表示右对齐 7表示总宽度为7个字符(包括小数点和小数部分) f表示将数字格式化为浮点数\n"
   ]
  },
  {
   "cell_type": "code",
   "execution_count": 69,
   "id": "900b8ebb-a484-4487-8436-98b74d3bfa9a",
   "metadata": {},
   "outputs": [],
   "source": [
    "def test(dataloader, model, criterion):\n",
    "    size = len(dataloader.dataset)\n",
    "    num_batches = len(dataloader)\n",
    "    model.eval()\n",
    "    test_loss, correct = 0, 0\n",
    "    with torch.no_grad():\n",
    "        for X, y in dataloader:\n",
    "            X, y = X.to(device), y.to(device)\n",
    "            pred = model(X)\n",
    "            test_loss += criterion(pred, y).item()\n",
    "            correct += (pred.argmax(1) == y).type(torch.float).sum().item()\n",
    "    test_loss /= num_batches\n",
    "    correct /= size\n",
    "    print(f\"Test Error: \\n Accuracy: {(100*correct):>0.1f}%, Avg loss: {test_loss:>8f} \\n\")"
   ]
  },
  {
   "cell_type": "code",
   "execution_count": 71,
   "id": "4dffb697-7d6f-4609-9fe4-1ce3cde043e4",
   "metadata": {},
   "outputs": [
    {
     "name": "stdout",
     "output_type": "stream",
     "text": [
      "Epoch 1\n",
      "-----------------------------------\n",
      "loss: 0.711912 [    0/  480]\n",
      "loss: 4.095325 [  400/  480]\n",
      "Test Error: \n",
      " Accuracy: 63.3%, Avg loss: 1.123192 \n",
      "\n",
      "Epoch 2\n",
      "-----------------------------------\n",
      "loss: 1.045115 [    0/  480]\n",
      "loss: 0.811783 [  400/  480]\n",
      "Test Error: \n",
      " Accuracy: 60.0%, Avg loss: 1.091956 \n",
      "\n",
      "Epoch 3\n",
      "-----------------------------------\n",
      "loss: 2.609183 [    0/  480]\n",
      "loss: 0.640877 [  400/  480]\n",
      "Test Error: \n",
      " Accuracy: 58.3%, Avg loss: 1.144943 \n",
      "\n",
      "Epoch 4\n",
      "-----------------------------------\n",
      "loss: 0.683725 [    0/  480]\n",
      "loss: 0.692789 [  400/  480]\n",
      "Test Error: \n",
      " Accuracy: 61.7%, Avg loss: 1.229410 \n",
      "\n",
      "Epoch 5\n",
      "-----------------------------------\n",
      "loss: 0.958660 [    0/  480]\n",
      "loss: 0.734751 [  400/  480]\n",
      "Test Error: \n",
      " Accuracy: 59.2%, Avg loss: 1.259514 \n",
      "\n",
      "Epoch 6\n",
      "-----------------------------------\n",
      "loss: 0.654422 [    0/  480]\n",
      "loss: 0.688344 [  400/  480]\n",
      "Test Error: \n",
      " Accuracy: 59.2%, Avg loss: 1.396376 \n",
      "\n",
      "Epoch 7\n",
      "-----------------------------------\n",
      "loss: 0.780324 [    0/  480]\n",
      "loss: 0.613890 [  400/  480]\n",
      "Test Error: \n",
      " Accuracy: 58.3%, Avg loss: 1.416482 \n",
      "\n",
      "Epoch 8\n",
      "-----------------------------------\n",
      "loss: 0.694893 [    0/  480]\n",
      "loss: 0.681314 [  400/  480]\n",
      "Test Error: \n",
      " Accuracy: 55.8%, Avg loss: 2.225199 \n",
      "\n",
      "Epoch 9\n",
      "-----------------------------------\n",
      "loss: 0.691076 [    0/  480]\n",
      "loss: 0.705002 [  400/  480]\n",
      "Test Error: \n",
      " Accuracy: 55.0%, Avg loss: 2.384971 \n",
      "\n",
      "Epoch 10\n",
      "-----------------------------------\n",
      "loss: 0.628151 [    0/  480]\n",
      "loss: 0.974360 [  400/  480]\n",
      "Test Error: \n",
      " Accuracy: 54.2%, Avg loss: 4.108531 \n",
      "\n",
      "Done!\n"
     ]
    }
   ],
   "source": [
    "epochs = 10\n",
    "for t in range(epochs):\n",
    "    print(f\"Epoch {t+1}\\n-----------------------------------\")\n",
    "    train(train_loader, model, criterion, optimizer)\n",
    "    test(test_loader, model, criterion)\n",
    "\n",
    "print(\"Done!\")"
   ]
  },
  {
   "cell_type": "code",
   "execution_count": null,
   "id": "2cc7508c-8851-4a1d-bf50-d8d632576c09",
   "metadata": {},
   "outputs": [],
   "source": []
  }
 ],
 "metadata": {
  "kernelspec": {
   "display_name": "Python [conda env:base] *",
   "language": "python",
   "name": "conda-base-py"
  },
  "language_info": {
   "codemirror_mode": {
    "name": "ipython",
    "version": 3
   },
   "file_extension": ".py",
   "mimetype": "text/x-python",
   "name": "python",
   "nbconvert_exporter": "python",
   "pygments_lexer": "ipython3",
   "version": "3.12.7"
  }
 },
 "nbformat": 4,
 "nbformat_minor": 5
}
