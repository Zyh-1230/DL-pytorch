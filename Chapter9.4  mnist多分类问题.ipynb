{
 "cells": [
  {
   "cell_type": "code",
   "execution_count": 15,
   "id": "440aa388-4ac6-4557-a4ef-58c1dae0628a",
   "metadata": {},
   "outputs": [],
   "source": [
    "import torch\n",
    "from torchvision import transforms # 变换\n",
    "from torchvision import datasets\n",
    "from torch.utils.data import DataLoader\n",
    "import torch.nn.functional as F\n",
    "import torch.optim as optim # 优化器"
   ]
  },
  {
   "cell_type": "code",
   "execution_count": 17,
   "id": "0c7b34da-02ad-4f1b-b6d8-a9a675dafe6c",
   "metadata": {},
   "outputs": [],
   "source": [
    "batch_size = 64"
   ]
  },
  {
   "cell_type": "code",
   "execution_count": 19,
   "id": "31f22566-20a9-4bb7-ae25-0d3acc23c6dc",
   "metadata": {},
   "outputs": [],
   "source": [
    "# ToTensor: convert the PIL(Z^(28*28)) Image to Tensor(R^(1*28*28)) C x W x H  C:channel W:width H: height\n",
    "transform = transforms.Compose([transforms.ToTensor(), transforms.Normalize((0.1307, ), (0.3081, ))]) # mean  std"
   ]
  },
  {
   "cell_type": "code",
   "execution_count": 25,
   "id": "31944f59-8012-44f6-8b58-1debe2dbbb54",
   "metadata": {},
   "outputs": [],
   "source": [
    "train_dataset = datasets.MNIST(root='Users/zhouyuhan/Documents/Code/PythonForAnalysis/Test/DL/dataset/mnist', train=True, download=True, transform=transform)\n",
    "\n",
    "train_loader = DataLoader(train_dataset, shuffle=True, batch_size=batch_size)\n",
    "\n",
    "test_dataset = datasets.MNIST(root='Users/zhouyuhan/Documents/Code/PythonForAnalysis/Test/DL/dataset/mnist', train=False, download=True, transform=transform)\n",
    "\n",
    "test_loader = DataLoader(test_dataset, shuffle=False, batch_size=batch_size)"
   ]
  },
  {
   "cell_type": "code",
   "execution_count": 37,
   "id": "045f5478-c5d5-4696-9c63-4f10d623a9a0",
   "metadata": {},
   "outputs": [],
   "source": [
    "class Net(torch.nn.Module):\n",
    "    def __init__(self):\n",
    "        super(Net, self).__init__()\n",
    "        # Fully connectied neutral network\n",
    "        self.l1 = torch.nn.Linear(784, 512)\n",
    "        self.l2 = torch.nn.Linear(512, 256)\n",
    "        self.l3 = torch.nn.Linear(256, 128)\n",
    "        self.l4 = torch.nn.Linear(128, 64)\n",
    "        self.l5 = torch.nn.Linear(64, 10)\n",
    "\n",
    "    def forward(self, x):\n",
    "        x = x.view(-1, 784) # -1:auto calculate translate to matrix of Nx784\n",
    "        x = F.relu(self.l1(x))\n",
    "        x = F.relu(self.l2(x))\n",
    "        x = F.relu(self.l3(x))\n",
    "        x = F.relu(self.l4(x))\n",
    "        return self.l5(x)\n",
    "\n",
    "model = Net()"
   ]
  },
  {
   "cell_type": "code",
   "execution_count": 1,
   "id": "18340571-fd8e-4790-94dc-16757155033e",
   "metadata": {},
   "outputs": [
    {
     "data": {
      "text/plain": [
       "'\\nclass Net(torch.nn.Module):\\n    def __init__(self):\\n        super(Net, self).__init__()\\n        self.model = torch.nn.Sequential(\\n            torch.nn.Flatten() # <==> x.view(-1, 784) 将除批次维以外的所有维度展平\\n            torch.nn.Linear(784, 512),\\n            torch.nn.ReLU(),\\n            torch.nn.Linear(512, 256),\\n            torch.nn.ReLU()\\n            torch.nn.Linear(256, 128)\\n            torch.nn.ReLU()\\n            torch.nn.Linear(128, 64)\\n            torch.nn.ReLU()\\n            torch.nn.Linear(64, 10)\\n        )\\n\\n    def forward(self, x):\\n        return self.model(x)\\n\\nmodel = Net()\\n'"
      ]
     },
     "execution_count": 1,
     "metadata": {},
     "output_type": "execute_result"
    }
   ],
   "source": [
    "'''\n",
    "class Net(torch.nn.Module):\n",
    "    def __init__(self):\n",
    "        super(Net, self).__init__()\n",
    "        self.model = torch.nn.Sequential(\n",
    "            torch.nn.Flatten() # <==> x.view(-1, 784) 将除批次维以外的所有维度展平\n",
    "            torch.nn.Linear(784, 512),\n",
    "            torch.nn.ReLU(),\n",
    "            torch.nn.Linear(512, 256),\n",
    "            torch.nn.ReLU()\n",
    "            torch.nn.Linear(256, 128)\n",
    "            torch.nn.ReLU()\n",
    "            torch.nn.Linear(128, 64)\n",
    "            torch.nn.ReLU()\n",
    "            torch.nn.Linear(64, 10)\n",
    "        )\n",
    "\n",
    "    def forward(self, x):\n",
    "        return self.model(x)\n",
    "\n",
    "model = Net()\n",
    "'''"
   ]
  },
  {
   "cell_type": "code",
   "execution_count": 39,
   "id": "550cda1c-4e0e-45f7-8ea7-2dac8c3c5089",
   "metadata": {},
   "outputs": [],
   "source": [
    "criterion = torch.nn.CrossEntropyLoss()\n",
    "\n",
    "optimizer = optim.SGD(model.parameters(), lr=0.01, momentum=0.5)"
   ]
  },
  {
   "cell_type": "code",
   "execution_count": 49,
   "id": "7d2e74a7-ca6a-4a36-91ad-1a18541bfa4c",
   "metadata": {},
   "outputs": [],
   "source": [
    "def train(epoch):\n",
    "    running_loss = 0.0\n",
    "    for batch_idx, data in enumerate(train_loader, 0): # 0是start参数 表示索引从0开始计数 但默认也是0\n",
    "        inputs, target = data\n",
    "        optimizer.zero_grad()\n",
    "\n",
    "        outputs = model(inputs)\n",
    "        loss = criterion(outputs, target)\n",
    "        loss.backward()\n",
    "        optimizer.step()\n",
    "\n",
    "        running_loss += loss.item()\n",
    "        if batch_idx % 300 == 299 # 每300次输出一次\n",
    "            print('[%d, %5d] loss: %.3f' % (epoch + 1, batch_idx + 1, running_loss / 300))\n",
    "            running_loss = 0.0\n",
    "\n",
    "def test():\n",
    "    correct = 0\n",
    "    total = 0\n",
    "    with torch.no_grad():\n",
    "        for data in test_loader:\n",
    "            images, labels = data\n",
    "            outputs = model(images)\n",
    "            _, predicted = torch.max(outputs.data, dim=1) # 返回:最大值 最大值下标   dim=1:按行搜索\n",
    "            total += labels.size(0) # label.size()返回(batch_size, )\n",
    "            correct += (predicted == labels).sum().item() # True: 1 False:0\n",
    "    print('Accuracy on test set: %d %%' % (100 * correct / total))\n"
   ]
  },
  {
   "cell_type": "code",
   "execution_count": 51,
   "id": "70d74805-22a2-4e78-8a99-e34d2d355632",
   "metadata": {},
   "outputs": [
    {
     "name": "stdout",
     "output_type": "stream",
     "text": [
      "[1,   300] loss: 0.187\n",
      "[1,   600] loss: 0.172\n",
      "[1,   900] loss: 0.160\n",
      "Accuracy on test set: 95 %\n",
      "[2,   300] loss: 0.133\n",
      "[2,   600] loss: 0.130\n",
      "[2,   900] loss: 0.113\n",
      "Accuracy on test set: 96 %\n",
      "[3,   300] loss: 0.101\n",
      "[3,   600] loss: 0.095\n",
      "[3,   900] loss: 0.095\n",
      "Accuracy on test set: 96 %\n",
      "[4,   300] loss: 0.081\n",
      "[4,   600] loss: 0.078\n",
      "[4,   900] loss: 0.071\n",
      "Accuracy on test set: 96 %\n",
      "[5,   300] loss: 0.064\n",
      "[5,   600] loss: 0.059\n",
      "[5,   900] loss: 0.067\n",
      "Accuracy on test set: 97 %\n",
      "[6,   300] loss: 0.051\n",
      "[6,   600] loss: 0.048\n",
      "[6,   900] loss: 0.052\n",
      "Accuracy on test set: 97 %\n",
      "[7,   300] loss: 0.039\n",
      "[7,   600] loss: 0.040\n",
      "[7,   900] loss: 0.042\n",
      "Accuracy on test set: 97 %\n",
      "[8,   300] loss: 0.030\n",
      "[8,   600] loss: 0.037\n",
      "[8,   900] loss: 0.035\n",
      "Accuracy on test set: 96 %\n",
      "[9,   300] loss: 0.027\n",
      "[9,   600] loss: 0.025\n",
      "[9,   900] loss: 0.028\n",
      "Accuracy on test set: 97 %\n",
      "[10,   300] loss: 0.019\n",
      "[10,   600] loss: 0.022\n",
      "[10,   900] loss: 0.021\n",
      "Accuracy on test set: 97 %\n"
     ]
    }
   ],
   "source": [
    "if __name__ == '__main__':\n",
    "    for epoch in range(10):\n",
    "        train(epoch)\n",
    "        test()\n",
    "        "
   ]
  },
  {
   "cell_type": "code",
   "execution_count": null,
   "id": "9712725e-f9c5-45a8-84b2-ca2f1d52e2d4",
   "metadata": {},
   "outputs": [],
   "source": []
  },
  {
   "cell_type": "code",
   "execution_count": null,
   "id": "ecf0e12a-d7ed-4a96-99e2-ee451bc7d64e",
   "metadata": {},
   "outputs": [],
   "source": []
  }
 ],
 "metadata": {
  "kernelspec": {
   "display_name": "Python [conda env:base] *",
   "language": "python",
   "name": "conda-base-py"
  },
  "language_info": {
   "codemirror_mode": {
    "name": "ipython",
    "version": 3
   },
   "file_extension": ".py",
   "mimetype": "text/x-python",
   "name": "python",
   "nbconvert_exporter": "python",
   "pygments_lexer": "ipython3",
   "version": "3.12.7"
  }
 },
 "nbformat": 4,
 "nbformat_minor": 5
}
