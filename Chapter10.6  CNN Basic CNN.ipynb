{
 "cells": [
  {
   "cell_type": "code",
   "execution_count": 23,
   "id": "21fe6cb4-aaec-42e4-9f94-765946b24cfe",
   "metadata": {},
   "outputs": [],
   "source": [
    "import torch\n",
    "from torchvision import transforms # 变换\n",
    "from torchvision import datasets\n",
    "from torch.utils.data import DataLoader\n",
    "import torch.nn.functional as F\n",
    "import torch.optim as optim # 优化器"
   ]
  },
  {
   "cell_type": "code",
   "execution_count": 25,
   "id": "50c1faf3-738e-4ff3-9277-e340c9370f6e",
   "metadata": {},
   "outputs": [],
   "source": [
    "batch_size = 64"
   ]
  },
  {
   "cell_type": "code",
   "execution_count": 27,
   "id": "e15114c4-933f-4d50-9bad-1f36fd0d0075",
   "metadata": {},
   "outputs": [],
   "source": [
    "# ToTensor: convert the PIL(Z^(28*28)) Image to Tensor(R^(1*28*28)) C x W x H  C:channel W:width H: height\n",
    "transform = transforms.Compose([transforms.ToTensor(), transforms.Normalize((0.1307, ), (0.3081, ))]) # mean  std"
   ]
  },
  {
   "cell_type": "code",
   "execution_count": 29,
   "id": "3d4da8ac-13e4-4f4c-872a-eef44ddb6f49",
   "metadata": {},
   "outputs": [],
   "source": [
    "train_dataset = datasets.MNIST(root='Users/zhouyuhan/Documents/Code/PythonForAnalysis/Test/DL/dataset/mnist', train=True, download=False, transform=transform)\n",
    "\n",
    "train_loader = DataLoader(train_dataset, shuffle=True, batch_size=batch_size)\n",
    "\n",
    "test_dataset = datasets.MNIST(root='Users/zhouyuhan/Documents/Code/PythonForAnalysis/Test/DL/dataset/mnist', train=False, download=False, transform=transform)\n",
    "\n",
    "test_loader = DataLoader(test_dataset, shuffle=False, batch_size=batch_size)"
   ]
  },
  {
   "cell_type": "code",
   "execution_count": 31,
   "id": "d42284b6-0751-4f1f-a531-44b1f9155252",
   "metadata": {},
   "outputs": [],
   "source": [
    "class Net(torch.nn.Module):\n",
    "    def __init__(self):\n",
    "        super(Net, self).__init__()\n",
    "        self.conv1 = torch.nn.Conv2d(1, 10, kernel_size=5)\n",
    "        self.conv2 = torch.nn.Conv2d(10, 20, kernel_size=5)\n",
    "        self.pooling = torch.nn.MaxPool2d(2)\n",
    "        self.fc = torch.nn.Linear(320, 10)\n",
    "\n",
    "    def forward(self, x):\n",
    "        batch_size = x.size(0)\n",
    "        x = F.relu(self.pooling(self.conv1(x)))\n",
    "        x = F.relu(self.pooling(self.conv2(x)))\n",
    "        x = x.view(batch_size, -1)\n",
    "        x = self.fc(x)\n",
    "        return x\n",
    "\n",
    "model = Net()\n",
    "# device = torch.device(\"cuda:0\" if torch.cuda.is_available() else \"cpu\") # convert parameters and buffers of all modules to CUDA Tensor\n",
    "# model.to(device)"
   ]
  },
  {
   "cell_type": "code",
   "execution_count": 33,
   "id": "2424bc89-1c5d-4764-a1a1-591af7b03dfa",
   "metadata": {},
   "outputs": [],
   "source": [
    "criterion = torch.nn.CrossEntropyLoss()\n",
    "\n",
    "optimizer = optim.SGD(model.parameters(), lr=0.01, momentum=0.5)"
   ]
  },
  {
   "cell_type": "code",
   "execution_count": 35,
   "id": "75b8cfc5-10bd-45ca-a22a-301644267cc5",
   "metadata": {},
   "outputs": [],
   "source": [
    "def train(epoch):\n",
    "    running_loss = 0.0\n",
    "    for batch_idx, data in enumerate(train_loader, 0):\n",
    "        inputs, target = data\n",
    "        # inputs, target = inputs.to(device), target.to(device) # send the inputs and targets at every step to the GPU\n",
    "        optimizer.zero_grad()\n",
    "\n",
    "        outputs = model(inputs)\n",
    "        loss = criterion(outputs, target)\n",
    "        loss.backward()\n",
    "        optimizer.step()\n",
    "\n",
    "        running_loss += loss.item()\n",
    "        if batch_idx % 300 == 299: # 每300次输出一次\n",
    "            print('[%d, %5d] loss: %.3f' % (epoch + 1, batch_idx + 1, running_loss / 300))\n",
    "            running_loss = 0.0\n",
    "\n",
    "def test():\n",
    "    correct = 0\n",
    "    total = 0\n",
    "    with torch.no_grad():\n",
    "        for data in test_loader:\n",
    "            inputs, target = data\n",
    "            # inputs, target = inputs.to(device), target.to(device)\n",
    "            outputs = model(inputs)\n",
    "            _, predicted = torch.max(outputs.data, dim=1) # 最大值 最大值下标 dim=1:按行搜索\n",
    "            total += target.size(0)\n",
    "            correct += (predicted == target).sum().item() # True: 1 False:0\n",
    "    print('Accuracy on test set: %d %% [%d/%d]' % (100 * correct / total, correct, total))\n"
   ]
  },
  {
   "cell_type": "code",
   "execution_count": 37,
   "id": "24b531a5-1967-4463-972c-b2e74a8035cf",
   "metadata": {},
   "outputs": [
    {
     "name": "stdout",
     "output_type": "stream",
     "text": [
      "[1,   300] loss: 0.615\n",
      "[1,   600] loss: 0.189\n",
      "[1,   900] loss: 0.137\n",
      "Accuracy on test set: 96 % [9690/10000]\n",
      "[2,   300] loss: 0.115\n",
      "[2,   600] loss: 0.095\n",
      "[2,   900] loss: 0.086\n",
      "Accuracy on test set: 97 % [9782/10000]\n",
      "[3,   300] loss: 0.077\n",
      "[3,   600] loss: 0.075\n",
      "[3,   900] loss: 0.072\n",
      "Accuracy on test set: 98 % [9819/10000]\n",
      "[4,   300] loss: 0.061\n",
      "[4,   600] loss: 0.063\n",
      "[4,   900] loss: 0.063\n",
      "Accuracy on test set: 98 % [9839/10000]\n",
      "[5,   300] loss: 0.056\n",
      "[5,   600] loss: 0.054\n",
      "[5,   900] loss: 0.055\n",
      "Accuracy on test set: 98 % [9850/10000]\n",
      "[6,   300] loss: 0.051\n",
      "[6,   600] loss: 0.050\n",
      "[6,   900] loss: 0.048\n",
      "Accuracy on test set: 98 % [9833/10000]\n",
      "[7,   300] loss: 0.047\n",
      "[7,   600] loss: 0.045\n",
      "[7,   900] loss: 0.046\n",
      "Accuracy on test set: 98 % [9856/10000]\n",
      "[8,   300] loss: 0.041\n",
      "[8,   600] loss: 0.043\n",
      "[8,   900] loss: 0.041\n",
      "Accuracy on test set: 98 % [9871/10000]\n",
      "[9,   300] loss: 0.039\n",
      "[9,   600] loss: 0.038\n",
      "[9,   900] loss: 0.040\n",
      "Accuracy on test set: 98 % [9870/10000]\n",
      "[10,   300] loss: 0.037\n",
      "[10,   600] loss: 0.038\n",
      "[10,   900] loss: 0.036\n",
      "Accuracy on test set: 98 % [9873/10000]\n"
     ]
    }
   ],
   "source": [
    "if __name__ == '__main__':\n",
    "    for epoch in range(10):\n",
    "        train(epoch)\n",
    "        test()\n",
    "        "
   ]
  },
  {
   "cell_type": "code",
   "execution_count": null,
   "id": "e19de616-5471-4109-93d7-d46d3cf408c9",
   "metadata": {},
   "outputs": [],
   "source": []
  },
  {
   "cell_type": "code",
   "execution_count": null,
   "id": "f4e56528-448b-4cea-a9bb-36b1e6ffce2a",
   "metadata": {},
   "outputs": [],
   "source": []
  }
 ],
 "metadata": {
  "kernelspec": {
   "display_name": "Python [conda env:base] *",
   "language": "python",
   "name": "conda-base-py"
  },
  "language_info": {
   "codemirror_mode": {
    "name": "ipython",
    "version": 3
   },
   "file_extension": ".py",
   "mimetype": "text/x-python",
   "name": "python",
   "nbconvert_exporter": "python",
   "pygments_lexer": "ipython3",
   "version": "3.12.7"
  }
 },
 "nbformat": 4,
 "nbformat_minor": 5
}
