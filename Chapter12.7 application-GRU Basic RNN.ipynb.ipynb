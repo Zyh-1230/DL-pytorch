{
 "cells": [
  {
   "cell_type": "code",
   "execution_count": 45,
   "id": "ea5cae09-eaf0-4e88-9485-5582cae83aeb",
   "metadata": {},
   "outputs": [],
   "source": [
    "import torch"
   ]
  },
  {
   "cell_type": "code",
   "execution_count": 47,
   "id": "8d685eda-7c87-4ca8-a859-3dd63bb990a1",
   "metadata": {},
   "outputs": [],
   "source": [
    "num_class = 4\n",
    "input_size = 4\n",
    "embedding_size = 10\n",
    "hidden_size = 8\n",
    "batch_size = 1\n",
    "seq_len = 5\n",
    "num_layers = 2"
   ]
  },
  {
   "cell_type": "code",
   "execution_count": 49,
   "id": "3fe9b5cb-175d-4311-ab6b-132e8977ff69",
   "metadata": {},
   "outputs": [],
   "source": [
    "idx2char = ['e', 'h', 'l', 'o']\n",
    "x_data = [[1, 0, 2, 2, 3]]\n",
    "y_data = [3, 1, 2, 3, 2]\n",
    "\n",
    "inputs = torch.LongTensor(x_data)\n",
    "labels = torch.LongTensor(y_data)"
   ]
  },
  {
   "cell_type": "code",
   "execution_count": 51,
   "id": "676aba1a-dbfe-484d-b3af-bf2aeb7d24df",
   "metadata": {},
   "outputs": [],
   "source": [
    "class Model(torch.nn.Module):\n",
    "    def __init__(self):\n",
    "        super(Model, self).__init__()\n",
    "        self.emb = torch.nn.Embedding(input_size, embedding_size)\n",
    "        self.gru = torch.nn.GRU(input_size=embedding_size, hidden_size=hidden_size, num_layers=num_layers, batch_first=True)\n",
    "        self.fc = torch.nn.Linear(hidden_size, num_class)\n",
    "\n",
    "    def forward(self, x):\n",
    "        # 初始化隐藏状态(层数 batch_size 隐藏层大小) 相较于LSTM GRU将细胞状态和隐藏状态合并为一个状态 参数更少\n",
    "        hidden0 = torch.zeros(num_layers, x.size(0), hidden_size) # 只需初始化一个隐藏状态\n",
    "        x = self.emb(x)\n",
    "        x, _ = self.gru(x, hidden0) # 只需传递一个状态\n",
    "        x = self.fc(x)\n",
    "        return x.view(-1, num_class)\n",
    "\n",
    "net = Model()"
   ]
  },
  {
   "cell_type": "code",
   "execution_count": 53,
   "id": "41b5ab29-902c-4ac1-ad26-dc04bbf331ef",
   "metadata": {},
   "outputs": [],
   "source": [
    "criterion = torch.nn.CrossEntropyLoss()\n",
    "\n",
    "optimizer = torch.optim.Adam(net.parameters(), lr=0.05)"
   ]
  },
  {
   "cell_type": "code",
   "execution_count": 55,
   "id": "557ac251-879a-4025-b80c-49dcf2bdf889",
   "metadata": {},
   "outputs": [
    {
     "name": "stdout",
     "output_type": "stream",
     "text": [
      "Predicted: ooooo, Epoch [1/30]: loss = 1.433\n",
      "Predicted: ooooo, Epoch [2/30]: loss = 1.264\n",
      "Predicted: ooooo, Epoch [3/30]: loss = 1.121\n",
      "Predicted: ollol, Epoch [4/30]: loss = 0.990\n",
      "Predicted: ollll, Epoch [5/30]: loss = 0.873\n",
      "Predicted: ollll, Epoch [6/30]: loss = 0.742\n",
      "Predicted: ollol, Epoch [7/30]: loss = 0.623\n",
      "Predicted: ohlol, Epoch [8/30]: loss = 0.536\n",
      "Predicted: ohlol, Epoch [9/30]: loss = 0.434\n",
      "Predicted: ohlol, Epoch [10/30]: loss = 0.321\n",
      "Predicted: ohlol, Epoch [11/30]: loss = 0.230\n",
      "Predicted: ohlol, Epoch [12/30]: loss = 0.180\n",
      "Predicted: ohlol, Epoch [13/30]: loss = 0.134\n",
      "Predicted: ohlol, Epoch [14/30]: loss = 0.088\n",
      "Predicted: ohlol, Epoch [15/30]: loss = 0.060\n",
      "Predicted: ohlol, Epoch [16/30]: loss = 0.042\n",
      "Predicted: ohlol, Epoch [17/30]: loss = 0.030\n",
      "Predicted: ohlol, Epoch [18/30]: loss = 0.022\n",
      "Predicted: ohlol, Epoch [19/30]: loss = 0.017\n",
      "Predicted: ohlol, Epoch [20/30]: loss = 0.013\n",
      "Predicted: ohlol, Epoch [21/30]: loss = 0.010\n",
      "Predicted: ohlol, Epoch [22/30]: loss = 0.008\n",
      "Predicted: ohlol, Epoch [23/30]: loss = 0.006\n",
      "Predicted: ohlol, Epoch [24/30]: loss = 0.005\n",
      "Predicted: ohlol, Epoch [25/30]: loss = 0.004\n",
      "Predicted: ohlol, Epoch [26/30]: loss = 0.004\n",
      "Predicted: ohlol, Epoch [27/30]: loss = 0.003\n",
      "Predicted: ohlol, Epoch [28/30]: loss = 0.003\n",
      "Predicted: ohlol, Epoch [29/30]: loss = 0.002\n",
      "Predicted: ohlol, Epoch [30/30]: loss = 0.002\n"
     ]
    }
   ],
   "source": [
    "for epoch in range(30):\n",
    "    optimizer.zero_grad()\n",
    "    outputs = net(inputs)\n",
    "    loss = criterion(outputs, labels)\n",
    "    loss.backward()\n",
    "    optimizer.step()\n",
    "\n",
    "    _, idx = outputs.max(dim=1)\n",
    "    print('Predicted:', ''.join([idx2char[x] for x in idx]), end='')\n",
    "    print(', Epoch [%d/30]: loss = %.3f' %(epoch + 1, loss.item()))"
   ]
  },
  {
   "cell_type": "code",
   "execution_count": null,
   "id": "69ea59e9-1897-42e2-a472-934983f9bd7b",
   "metadata": {},
   "outputs": [],
   "source": []
  }
 ],
 "metadata": {
  "kernelspec": {
   "display_name": "Python [conda env:base] *",
   "language": "python",
   "name": "conda-base-py"
  },
  "language_info": {
   "codemirror_mode": {
    "name": "ipython",
    "version": 3
   },
   "file_extension": ".py",
   "mimetype": "text/x-python",
   "name": "python",
   "nbconvert_exporter": "python",
   "pygments_lexer": "ipython3",
   "version": "3.12.7"
  }
 },
 "nbformat": 4,
 "nbformat_minor": 5
}
